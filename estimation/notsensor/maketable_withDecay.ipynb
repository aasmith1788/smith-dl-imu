{
 "cells": [
  {
   "cell_type": "markdown",
   "metadata": {},
   "source": [
    "# 학습 그래프 출력 후 정리할 때 사용함\n",
    "### 텐서보드에서 출력한 학습 그래프 결과 정리용\n",
    "# Weight Decay 있을 때"
   ]
  },
  {
   "cell_type": "code",
   "execution_count": 1,
   "metadata": {},
   "outputs": [],
   "source": [
    "import pandas as pd\n",
    "import numpy as np\n",
    "from natsort import natsorted \n",
    "from os import listdir\n",
    "from os.path import isfile, join, exists,isdir"
   ]
  },
  {
   "cell_type": "code",
   "execution_count": 6,
   "metadata": {},
   "outputs": [],
   "source": [
    "targetDir = \"./_tensorboardResult/wDgMOSTyleModel\"\n",
    "list_results = natsorted([f for f in listdir(targetDir) if f.endswith(\".csv\")])\n",
    "dataTypes = ['angle','moBWHT']\n",
    "sesses = ['train','test']\n",
    "emb_dims = [5.0,10.0,20.0,30.0,40.0,50.0,60.0,70.0,80.0]\n",
    "metrics = ['X_nRMSE','Y_nRMSE','Z_nRMSE']\n",
    "weight_Decays = [0.001,]\n",
    "columns =['sess','Type','emb_dim',\"weight_Decay\",'X_nRMSE_mean','X_nRMSE_std','Y_nRMSE_mean','Y_nRMSE_std','Z_nRMSE_mean','Z_nRMSE_std','SUM_nRMSE']\n",
    "writer = pd.ExcelWriter(join(targetDir,'result_hparams_table.xlsx'), engine='xlsxwriter')\n",
    "X_nRMSE = []\n",
    "Y_nRMSE = []\n",
    "Z_nRMSE = []\n",
    "\n",
    "for resultName in list_results:\n",
    "    result = pd.read_csv(join(targetDir,resultName))\n",
    "    mod_name = \"_\".join(resultName.split('_')[:-2])\n",
    "    df_mean_std = pd.DataFrame(columns=columns)\n",
    "    for dataType in dataTypes:\n",
    "        for sess in sesses:\n",
    "            for emb_dim in emb_dims:\n",
    "                for weight_Decay in weight_Decays:\n",
    "                    for metric in metrics:\n",
    "                        pick = result[(result['Type']==dataType) & (result['sess']==sess) & (result['emb_dim']==emb_dim)&(result['weight_Decay']==weight_Decay)]\n",
    "                        globals()[f'{metric}'] = [pick[metric].mean(), pick[metric].std()]\n",
    "                    sum_nRMSE = X_nRMSE[0]+Y_nRMSE[0]+Z_nRMSE[0]\n",
    "                    df = pd.DataFrame([[dataType, sess, emb_dim, weight_Decay,X_nRMSE[0], X_nRMSE[1],Y_nRMSE[0],Y_nRMSE[1],Z_nRMSE[0],Z_nRMSE[1], sum_nRMSE]],columns=columns)\n",
    "                    df_mean_std = pd.concat([df_mean_std,df], ignore_index=True)\n",
    "    df_mean_std.to_excel(writer,sheet_name=str(mod_name))\n",
    "writer.save()"
   ]
  },
  {
   "cell_type": "code",
   "execution_count": 5,
   "metadata": {},
   "outputs": [
    {
     "data": {
      "text/plain": [
       "['wDgMOSTyle_hparams_table.csv']"
      ]
     },
     "execution_count": 5,
     "metadata": {},
     "output_type": "execute_result"
    }
   ],
   "source": [
    "list_results"
   ]
  },
  {
   "cell_type": "code",
   "execution_count": 16,
   "metadata": {},
   "outputs": [
    {
     "data": {
      "text/html": [
       "<div>\n",
       "<style scoped>\n",
       "    .dataframe tbody tr th:only-of-type {\n",
       "        vertical-align: middle;\n",
       "    }\n",
       "\n",
       "    .dataframe tbody tr th {\n",
       "        vertical-align: top;\n",
       "    }\n",
       "\n",
       "    .dataframe thead th {\n",
       "        text-align: right;\n",
       "    }\n",
       "</style>\n",
       "<table border=\"1\" class=\"dataframe\">\n",
       "  <thead>\n",
       "    <tr style=\"text-align: right;\">\n",
       "      <th></th>\n",
       "      <th>sess</th>\n",
       "      <th>Type</th>\n",
       "      <th>lr</th>\n",
       "      <th>bsize</th>\n",
       "      <th>DS</th>\n",
       "      <th>lossFunc</th>\n",
       "      <th>emb_dim</th>\n",
       "      <th>weight_Decay</th>\n",
       "      <th>loss</th>\n",
       "      <th>X_nRMSE</th>\n",
       "      <th>Y_nRMSE</th>\n",
       "      <th>Z_nRMSE</th>\n",
       "    </tr>\n",
       "  </thead>\n",
       "  <tbody>\n",
       "    <tr>\n",
       "      <th>160</th>\n",
       "      <td>test</td>\n",
       "      <td>moBWHT</td>\n",
       "      <td>0.001</td>\n",
       "      <td>128.0</td>\n",
       "      <td>IWALQQ_AE_4th</td>\n",
       "      <td>MAE</td>\n",
       "      <td>80.0</td>\n",
       "      <td>0.001</td>\n",
       "      <td>0.030399</td>\n",
       "      <td>18.784101</td>\n",
       "      <td>21.605999</td>\n",
       "      <td>32.984383</td>\n",
       "    </tr>\n",
       "    <tr>\n",
       "      <th>161</th>\n",
       "      <td>test</td>\n",
       "      <td>moBWHT</td>\n",
       "      <td>0.001</td>\n",
       "      <td>128.0</td>\n",
       "      <td>IWALQQ_AE_4th</td>\n",
       "      <td>MAE</td>\n",
       "      <td>80.0</td>\n",
       "      <td>0.001</td>\n",
       "      <td>0.026638</td>\n",
       "      <td>15.693583</td>\n",
       "      <td>16.556454</td>\n",
       "      <td>14.976572</td>\n",
       "    </tr>\n",
       "    <tr>\n",
       "      <th>162</th>\n",
       "      <td>test</td>\n",
       "      <td>moBWHT</td>\n",
       "      <td>0.001</td>\n",
       "      <td>128.0</td>\n",
       "      <td>IWALQQ_AE_4th</td>\n",
       "      <td>MAE</td>\n",
       "      <td>80.0</td>\n",
       "      <td>0.001</td>\n",
       "      <td>0.033398</td>\n",
       "      <td>16.991045</td>\n",
       "      <td>30.055140</td>\n",
       "      <td>18.747063</td>\n",
       "    </tr>\n",
       "    <tr>\n",
       "      <th>163</th>\n",
       "      <td>test</td>\n",
       "      <td>moBWHT</td>\n",
       "      <td>0.001</td>\n",
       "      <td>128.0</td>\n",
       "      <td>IWALQQ_AE_4th</td>\n",
       "      <td>MAE</td>\n",
       "      <td>80.0</td>\n",
       "      <td>0.001</td>\n",
       "      <td>0.035386</td>\n",
       "      <td>16.067125</td>\n",
       "      <td>26.199133</td>\n",
       "      <td>17.070978</td>\n",
       "    </tr>\n",
       "    <tr>\n",
       "      <th>164</th>\n",
       "      <td>test</td>\n",
       "      <td>moBWHT</td>\n",
       "      <td>0.001</td>\n",
       "      <td>128.0</td>\n",
       "      <td>IWALQQ_AE_4th</td>\n",
       "      <td>MAE</td>\n",
       "      <td>80.0</td>\n",
       "      <td>0.001</td>\n",
       "      <td>0.042461</td>\n",
       "      <td>14.974821</td>\n",
       "      <td>18.821480</td>\n",
       "      <td>16.727478</td>\n",
       "    </tr>\n",
       "  </tbody>\n",
       "</table>\n",
       "</div>"
      ],
      "text/plain": [
       "     sess    Type     lr  bsize             DS lossFunc  emb_dim  \\\n",
       "160  test  moBWHT  0.001  128.0  IWALQQ_AE_4th      MAE     80.0   \n",
       "161  test  moBWHT  0.001  128.0  IWALQQ_AE_4th      MAE     80.0   \n",
       "162  test  moBWHT  0.001  128.0  IWALQQ_AE_4th      MAE     80.0   \n",
       "163  test  moBWHT  0.001  128.0  IWALQQ_AE_4th      MAE     80.0   \n",
       "164  test  moBWHT  0.001  128.0  IWALQQ_AE_4th      MAE     80.0   \n",
       "\n",
       "     weight_Decay      loss    X_nRMSE    Y_nRMSE    Z_nRMSE  \n",
       "160         0.001  0.030399  18.784101  21.605999  32.984383  \n",
       "161         0.001  0.026638  15.693583  16.556454  14.976572  \n",
       "162         0.001  0.033398  16.991045  30.055140  18.747063  \n",
       "163         0.001  0.035386  16.067125  26.199133  17.070978  \n",
       "164         0.001  0.042461  14.974821  18.821480  16.727478  "
      ]
     },
     "execution_count": 16,
     "metadata": {},
     "output_type": "execute_result"
    }
   ],
   "source": [
    "result[(result['Type']==dataType) & (result['sess']==sess) & (result['emb_dim']==emb_dim)]"
   ]
  },
  {
   "cell_type": "code",
   "execution_count": null,
   "metadata": {},
   "outputs": [],
   "source": []
  }
 ],
 "metadata": {
  "kernelspec": {
   "display_name": "Python 3.8.13 ('imu')",
   "language": "python",
   "name": "python3"
  },
  "language_info": {
   "codemirror_mode": {
    "name": "ipython",
    "version": 3
   },
   "file_extension": ".py",
   "mimetype": "text/x-python",
   "name": "python",
   "nbconvert_exporter": "python",
   "pygments_lexer": "ipython3",
   "version": "3.8.13"
  },
  "orig_nbformat": 4,
  "vscode": {
   "interpreter": {
    "hash": "658a9c5b3d323e3210e486fb511d93c908db110777364f82495071cb58f332a9"
   }
  }
 },
 "nbformat": 4,
 "nbformat_minor": 2
}

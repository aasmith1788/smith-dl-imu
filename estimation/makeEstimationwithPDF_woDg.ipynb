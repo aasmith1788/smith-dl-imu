{
 "cells": [
  {
   "cell_type": "markdown",
   "metadata": {},
   "source": [
    "# 설명 -SCC안에서 구동할 것\n",
    "\n",
    "- emb_dim이 있는 모델을 대상으로 하는 코드\n",
    "\n",
    "- 일단 현재 파일은 아래 경로에 저장된 모델을 대상으로 만들어짐\n",
    "  /restricted/projectnb/movelab/bcha/IMUforKnee/trainedModel/DG_DenseRegressor_1st_torch/IWALQQ_AE_1st/\n",
    "\n",
    "- 최종 결과가 나오면 가장 잘된 모델만 선택하여 5-fold 결과를 도출할 것\n"
   ]
  },
  {
   "cell_type": "code",
   "execution_count": 16,
   "metadata": {},
   "outputs": [],
   "source": [
    "# 필요한 패캐지 불러오기\n",
    "import torch\n",
    "import numpy as np\n",
    "import pandas as pd\n",
    "from os.path import join\n",
    "from pickle import load\n",
    "from sklearn.preprocessing import MinMaxScaler\n",
    "from natsort import natsorted\n",
    "import os\n",
    "\n",
    "from CBDtorch.dense import *"
   ]
  },
  {
   "cell_type": "code",
   "execution_count": 17,
   "metadata": {},
   "outputs": [
    {
     "name": "stdout",
     "output_type": "stream",
     "text": [
      "cpu\n"
     ]
    }
   ],
   "source": [
    "# 본 결과를 담을 총 폴더 이름\n",
    "motherDir = 'woDgModel'\n",
    "# 사용 모델 및 데이터 이름\n",
    "modelVersion = \"DenseRegressor_2nd_torch\" \n",
    "nameDataset = \"IWALQQ_AE_4th\"\n",
    "# 사용한 feature압축용 VAE모델 이름\n",
    "vae_ModelVersion = \"vaelstm_3rd_torch\"\n",
    "# VAE모델을 사용하기 위한 default 이름\n",
    "load_VAE_dataType = \"angle\"  # 어차피 moBWHT나 angle이나 입력데이터는 똑같다!\n",
    "\n",
    "# 일단 각도 예측 모델\n",
    "dataType = \"angle\" # angle || moBWHT\n",
    "emb_dim = 10\n",
    "\n",
    "# 모델 위치\n",
    "SaveDir = \"/restricted/projectnb/movelab/bcha/IMUforKnee/trainedModel/\"\n",
    "MODEL_DIR = join(SaveDir, modelVersion, nameDataset)\n",
    "# 데이터 위치\n",
    "dataDir = \"../preperation/SAVE_dataSet\"\n",
    "DATA_DIR = join(dataDir, nameDataset)\n",
    "# 고정값\n",
    "SEQ_LEN = 101\n",
    "NUM_FEATURES = 42\n",
    "# 인공지능 학습용 세팅\n",
    "device = \"cuda\" if torch.cuda.is_available() else \"cpu\"\n",
    "print(device)"
   ]
  },
  {
   "cell_type": "code",
   "execution_count": 18,
   "metadata": {},
   "outputs": [],
   "source": [
    "# 데이터셋 불러올때 필요한 것\n",
    "class MinMaxScalerSensor(MinMaxScaler):\n",
    "    def fit(self, X, y=None):\n",
    "        x = np.reshape(X, newshape=(X.shape[0] * X.shape[1], -1))\n",
    "        super().fit(x, y=y)\n",
    "\n",
    "    def transform(self, X):\n",
    "        x = np.reshape(X, newshape=(X.shape[0] * X.shape[1], -1))\n",
    "        return np.reshape(super().transform(x), newshape=X.shape)\n",
    "\n",
    "    def inverse_transform(self, X):\n",
    "        x = np.reshape(X, newshape=(X.shape[0] * X.shape[1], -1))\n",
    "        return np.reshape(super().inverse_transform(x), newshape=X.shape)"
   ]
  },
  {
   "cell_type": "code",
   "execution_count": 19,
   "metadata": {},
   "outputs": [],
   "source": [
    "def ensure_dir(file_path):\n",
    "    if not os.path.exists(file_path):\n",
    "        os.makedirs(file_path)"
   ]
  },
  {
   "cell_type": "code",
   "execution_count": 20,
   "metadata": {},
   "outputs": [],
   "source": [
    "for numFold in range(0, 5):\n",
    "    # 모델 불러오기\n",
    "    dir_savedTrainedModel = join(MODEL_DIR, f\"{dataType}_{emb_dim}_{numFold}_fold\")\n",
    "    dir_savedVAE = join(SaveDir, vae_ModelVersion, nameDataset)\n",
    "    loadVAEmodelname = join(\n",
    "        dir_savedVAE, f\"{load_VAE_dataType}_{emb_dim}_{numFold}_fold\"\n",
    "    )\n",
    "    my_model = regressor(\n",
    "        loadVAEmodelname,\n",
    "        emb_dim,\n",
    "        SEQ_LEN,\n",
    "        NUM_FEATURES,\n",
    "        emb_dim,\n",
    "        device,\n",
    "    )\n",
    "    my_model.load_state_dict(\n",
    "        torch.load(dir_savedTrainedModel, map_location=torch.device(\"cpu\"))\n",
    "    )\n",
    "    my_model.eval()\n",
    "    # 데이터 불러오기\n",
    "    load_test = np.load(join(DATA_DIR, f\"{numFold}_fold_final_test.npz\"))\n",
    "    load_scaler4Y = load(\n",
    "        open(join(DATA_DIR, f\"{numFold}_fold_scaler4Y_{dataType}.pkl\"), \"rb\")\n",
    "    )\n",
    "\n",
    "    # 각 폴드의 개별 데이터 순회\n",
    "    for dataIndex in range(load_test[\"final_X_test\"].shape[0]):\n",
    "        # 입력 및 정답 데이터 준비\n",
    "        X_test = np.squeeze(load_test[\"final_X_test\"][dataIndex])\n",
    "        X_test = X_test[None, :]  # batch dimension을\n",
    "        X_dg = np.squeeze(load_test[\"final_DG_test\"][dataIndex])\n",
    "        Y_true = load_test[f\"final_Y_{dataType}_test\"][dataIndex]\n",
    "        # 추론\n",
    "        Y_pred = my_model(\n",
    "            torch.from_numpy(X_test).type(torch.FloatTensor))\n",
    "        Y_pred = Y_pred.cpu().detach().numpy()\n",
    "        Y_pred = np.reshape(Y_pred, [3, -1])\n",
    "        Y_pred = np.transpose(Y_pred)\n",
    "        # 데이터 rescale해서 원래크기로 돌리기\n",
    "        Y_true_pick_afterscaler = (Y_true - load_scaler4Y.min_) / load_scaler4Y.scale_\n",
    "        Y_pred_pick_afterscaler = (Y_pred - load_scaler4Y.min_) / load_scaler4Y.scale_\n",
    "        \n",
    "        df_true = pd.DataFrame(Y_true_pick_afterscaler, columns=['X_True','Y_True','Z_True'])\n",
    "        df_pred = pd.DataFrame(Y_pred_pick_afterscaler, columns=['X_Pred','Y_Pred','Z_Pred'])\n",
    "        df_save =  pd.concat([df_true, df_pred], axis=1)\n",
    "        dfSaveDir = join(motherDir,modelVersion,vae_ModelVersion,nameDataset,dataType,str(emb_dim),f\"{numFold}_fold\")\n",
    "        ensure_dir(dfSaveDir)\n",
    "        df_save.to_excel(join(dfSaveDir,f\"{dataIndex}.xlsx\"))\n",
    "    #     break  # 테스트 데이터 loop break 용도\n",
    "    # break  # fold loop break 용도"
   ]
  },
  {
   "cell_type": "markdown",
   "metadata": {},
   "source": [
    "# 총 결과 정리 및 PDF 그리기"
   ]
  },
  {
   "cell_type": "code",
   "execution_count": 21,
   "metadata": {},
   "outputs": [],
   "source": [
    "# import 필요한 라이브러리\n",
    "import os\n",
    "from os.path import join\n",
    "from natsort import natsorted\n",
    "from pathlib import Path\n",
    "import shutil\n",
    "import pandas as pd\n",
    "import numpy as np\n",
    "from tqdm.notebook import tqdm\n",
    "from mpl_toolkits.axes_grid1 import host_subplot\n",
    "import mpl_toolkits.axisartist as AA\n",
    "import matplotlib.pyplot as plt\n",
    "from matplotlib.backends.backend_pdf import PdfPages"
   ]
  },
  {
   "cell_type": "code",
   "execution_count": 22,
   "metadata": {},
   "outputs": [],
   "source": [
    "# 필요한 함수 정의\n",
    "def meanStdPlot(position,data,name):\n",
    "    color_X = \"#008080\"##015734\n",
    "    color_Y = \"#4d019a\"#58008f\n",
    "    linewidth = 2\n",
    "    \n",
    "    subAJ_right = 0.5\n",
    "    subAJ_top = 1.0\n",
    "    subAJ_wspace = 0.5\n",
    "    sub_offset= 40\n",
    "\n",
    "    data = np.array(data).astype(float)\n",
    "    print('data : ',data.shape)\n",
    "    \n",
    "    host = host_subplot(position, axes_class=AA.Axes)\n",
    "    \n",
    "    plt.subplots_adjust(right=subAJ_right,top=subAJ_top, wspace=subAJ_wspace)\n",
    "\n",
    "    par1 = host.twinx()\n",
    "\n",
    "    par1.axis[\"right\"].toggle(all=True) \n",
    "\n",
    "\n",
    "    # host.set_xlim(0, 2)\n",
    "    # host.set_ylim(0, 2)\n",
    "\n",
    "    host.set_xlabel(f\"Normalized Time\")\n",
    "    host.set_title(\n",
    "    f\"{name}\"\n",
    "    )\n",
    "    # host.set_ylabel(\"Angle\")\n",
    "    # par1.set_ylabel(\"Angle\")\n",
    "    # par2.set_ylabel(\"Z_axis\")\n",
    "\n",
    "    p1, = host.plot(range(0,len(data[0])), data[0], linewidth=linewidth,label=\"True\",color=color_X)\n",
    "    host.fill_between(range(0,len(data[0])), data[0]+data[1],data[0]-data[1],alpha=0.2,facecolor=p1.get_color(), edgecolor=(0,0,0,.8))\n",
    "    p2, = par1.plot(range(0,len(data[0])),  data[2],linewidth=linewidth, label=\"Pred\",color=color_Y)\n",
    "    par1.fill_between(range(0,len(data[0])), data[2]+data[3],data[2]-data[3],alpha=0.2,facecolor=p2.get_color(),edgecolor=(0,0,0,.8))\n",
    "    \n",
    "    if 'angle' in name:\n",
    "        if 'X' in name:\n",
    "            host.set_ylim(-55, 0)\n",
    "            par1.set_ylim(-55, 0)\n",
    "        elif 'Y' in name:\n",
    "            host.set_ylim(-10, 10)\n",
    "            par1.set_ylim(-10, 10)\n",
    "        elif 'Z' in name:   \n",
    "            host.set_ylim(-25, 10)\n",
    "            par1.set_ylim(-25, 10)\n",
    "\n",
    "    # elif 'moBWHT' in name:\n",
    "    #     host.set_ylim(0, 4)\n",
    "    #     par1.set_ylim(0, 4)\n",
    "     \n",
    "\n",
    "    host.legend()\n",
    "\n",
    "    host.axis[\"left\"].label.set_color(color_X)\n",
    "    par1.axis[\"right\"].label.set_color(color_Y)\n",
    "\n",
    "\n",
    "    host.axis[\"left\"].major_ticks.set_color(color_X)\n",
    "    par1.axis[\"right\"].major_ticks.set_color(color_Y)\n",
    "\n",
    "\n",
    "    host.axis[\"left\"].major_ticklabels.set_color(color_X)\n",
    "    par1.axis[\"right\"].major_ticklabels.set_color(color_Y)\n",
    "\n",
    "def diffPlot(position,data,name):\n",
    "    if \"X\" in name:\n",
    "        color_X = \"#e05858\"\n",
    "    elif \"Y\" in name:\n",
    "        color_X = \"#32a852\"\n",
    "    elif \"Z\" in name:\n",
    "        color_X = \"#4159cc\"\n",
    "    linewidth = 2\n",
    "    \n",
    "    subAJ_right = 0.5\n",
    "    subAJ_top = 1.0\n",
    "    subAJ_wspace = 0.5\n",
    "    sub_offset= 40\n",
    "\n",
    "    data = np.array(data).astype(float)\n",
    "    print('data : ',data.shape)\n",
    "    \n",
    "    host = host_subplot(position, axes_class=AA.Axes)\n",
    "    \n",
    "    plt.subplots_adjust(right=subAJ_right,top=subAJ_top, wspace=subAJ_wspace)\n",
    "\n",
    "    # host.set_xlim(0, 2)\n",
    "    # host.set_ylim(0, 2)\n",
    "\n",
    "    host.set_xlabel(f\"Normalized Time\")\n",
    "    host.set_title(\n",
    "    f\"{name}\"\n",
    "    )\n",
    "    # host.set_ylabel(\"Angle\")\n",
    "    # par1.set_ylabel(\"Angle\")\n",
    "    # par2.set_ylabel(\"Z_axis\")\n",
    "\n",
    "    p1, = host.plot(range(0,len(data[0])), data[0], linewidth=linewidth,label=\"Diff\",color=color_X)\n",
    "    host.fill_between(range(0,len(data[0])), data[0]+data[1],data[0]-data[1],alpha=0.2,facecolor=p1.get_color(), edgecolor=(0,0,0,.8))\n",
    "\n",
    "    if 'angle' in name:\n",
    "        host.set_ylim(0, 15)\n",
    "    elif 'moBWHT' in name:\n",
    "        host.set_ylim(0, 5)\n",
    "\n",
    "     \n",
    "\n",
    "    host.legend()\n",
    "\n",
    "    host.axis[\"left\"].label.set_color(color_X)\n",
    "\n",
    "    host.axis[\"left\"].major_ticks.set_color(color_X)\n",
    "\n",
    "    host.axis[\"left\"].major_ticklabels.set_color(color_X)"
   ]
  },
  {
   "cell_type": "code",
   "execution_count": 23,
   "metadata": {},
   "outputs": [
    {
     "name": "stdout",
     "output_type": "stream",
     "text": [
      "Axe :  X\n",
      "now fold :  0_fold\n",
      "now fold :  1_fold\n",
      "now fold :  2_fold\n",
      "now fold :  3_fold\n",
      "now fold :  4_fold\n",
      "Axe :  Y\n",
      "now fold :  0_fold\n",
      "now fold :  1_fold\n",
      "now fold :  2_fold\n",
      "now fold :  3_fold\n",
      "now fold :  4_fold\n",
      "Axe :  Z\n",
      "now fold :  0_fold\n",
      "now fold :  1_fold\n",
      "now fold :  2_fold\n",
      "now fold :  3_fold\n",
      "now fold :  4_fold\n"
     ]
    }
   ],
   "source": [
    "# 본 결과를 담을 총 폴더 이름\n",
    "targetDir = join(motherDir,modelVersion,vae_ModelVersion,nameDataset,dataType,str(emb_dim))\n",
    "\n",
    "for axe in [\"X\",\"Y\",\"Z\"]:\n",
    "    print(\"Axe : \", axe)\n",
    "    globals()[f\"true_{axe}\"] = np.array([])\n",
    "    globals()[f\"pred_{axe}\"] = np.array([])\n",
    "    for fold in [\"0_fold\",\"1_fold\",\"2_fold\",\"3_fold\",\"4_fold\",]:\n",
    "        print(f\"now fold : \", fold)\n",
    "        list_results = natsorted([_ for _ in os.listdir(join(targetDir,fold)) if _.endswith(\".xlsx\")])\n",
    "        for result in list_results:\n",
    "            singleResult = pd.read_excel(join(targetDir,fold,result))\n",
    "            true = np.expand_dims(singleResult[f\"{axe}_True\"].to_numpy(), axis=0)\n",
    "            pred = np.expand_dims(singleResult[f\"{axe}_Pred\"].to_numpy(), axis=0)\n",
    "            if len(globals()[f\"true_{axe}\"]) ==0:\n",
    "                globals()[f\"true_{axe}\"] = true\n",
    "                globals()[f\"pred_{axe}\"] = pred\n",
    "            else:\n",
    "                globals()[f\"true_{axe}\"] = np.concatenate((globals()[f\"true_{axe}\"], true),0)\n",
    "                globals()[f\"pred_{axe}\"] = np.concatenate((globals()[f\"pred_{axe}\"], pred),0)\n"
   ]
  },
  {
   "cell_type": "code",
   "execution_count": 24,
   "metadata": {},
   "outputs": [],
   "source": [
    "def makeDataframe(file_Num):\n",
    "    return pd.DataFrame(data=file_Num.transpose(),index = [idx for idx in range(len(file_Num[0]))],columns=[idx for idx in range(len(file_Num))])"
   ]
  },
  {
   "cell_type": "code",
   "execution_count": 25,
   "metadata": {},
   "outputs": [],
   "source": [
    "writer = pd.ExcelWriter(join(targetDir,'TruePredDiff.xlsx'), engine='xlsxwriter')\n",
    "for axe in [\"X\",\"Y\",\"Z\"]:\n",
    "    for sess in [\"true\",\"pred\"]:\n",
    "        dataName = f\"{sess}_{axe}\"\n",
    "        df = makeDataframe(globals()[dataName])\n",
    "        df.to_excel(writer,sheet_name=str(dataName),index=False)\n",
    "    df_diff = makeDataframe(abs(globals()[f\"true_{axe}\"]-globals()[f\"pred_{axe}\"]))\n",
    "    df_diff.to_excel(writer,sheet_name=str(f\"diff_{axe}\"),index=False)\n",
    "writer.save()"
   ]
  },
  {
   "cell_type": "code",
   "execution_count": 26,
   "metadata": {},
   "outputs": [
    {
     "name": "stdout",
     "output_type": "stream",
     "text": [
      "data :  (4, 101)\n",
      "data :  (2, 101)\n",
      "data :  (4, 101)\n",
      "data :  (2, 101)\n",
      "data :  (4, 101)\n",
      "data :  (2, 101)\n"
     ]
    },
    {
     "data": {
      "image/png": "[encoded data removed]",
      "text/plain": [
       "<Figure size 720x432 with 6 Axes>"
      ]
     },
     "metadata": {
      "needs_background": "light"
     },
     "output_type": "display_data"
    }
   ],
   "source": [
    "pp = PdfPages(join(targetDir,f\"WHOLE_Total_result_{dataType}.pdf\"))\n",
    "# # 축별 살제 예측은 한번에 그리고 에러는 밑에다 그리기\n",
    "plt.figure(figsize=(10, 6))\n",
    "meanStdPlot(321,[true_X.mean(axis=0),true_X.std(axis=0),pred_X.mean(axis=0),pred_X.std(axis=0)],f\"{dataType}_X\")\n",
    "diffPlot(322,[abs(true_X-pred_X).mean(axis=0),abs(true_X-pred_X).std(axis=0)],f\"{dataType}_X\")\n",
    "meanStdPlot(323,[true_Y.mean(axis=0),true_Y.std(axis=0),pred_Y.mean(axis=0),pred_Y.std(axis=0)],f\"{dataType}_Y\")\n",
    "diffPlot(324,[abs(true_Y-pred_Y).mean(axis=0),abs(true_Y-pred_Y).std(axis=0)],f\"{dataType}_Y\")\n",
    "meanStdPlot(325,[true_Z.mean(axis=0),true_Z.std(axis=0),pred_Z.mean(axis=0),pred_Z.std(axis=0)],f\"{dataType}_Z\")\n",
    "diffPlot(326,[abs(true_Z-pred_Z).mean(axis=0),abs(true_Z-pred_Z).std(axis=0)],f\"{dataType}_Z\")\n",
    "plt.tight_layout()\n",
    "pp.savefig()\n",
    "pp.close()"
   ]
  },
  {
   "cell_type": "code",
   "execution_count": null,
   "metadata": {},
   "outputs": [],
   "source": []
  }
 ],
 "metadata": {
  "kernelspec": {
   "display_name": "Python 3.8.13 ('imu')",
   "language": "python",
   "name": "python3"
  },
  "language_info": {
   "codemirror_mode": {
    "name": "ipython",
    "version": 3
   },
   "file_extension": ".py",
   "mimetype": "text/x-python",
   "name": "python",
   "nbconvert_exporter": "python",
   "pygments_lexer": "ipython3",
   "version": "3.8.13"
  },
  "orig_nbformat": 4,
  "vscode": {
   "interpreter": {
    "hash": "658a9c5b3d323e3210e486fb511d93c908db110777364f82495071cb58f332a9"
   }
  }
 },
 "nbformat": 4,
 "nbformat_minor": 2
}

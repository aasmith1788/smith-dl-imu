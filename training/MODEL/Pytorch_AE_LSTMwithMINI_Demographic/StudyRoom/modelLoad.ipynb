{
 "cells": [
  {
   "cell_type": "code",
   "execution_count": 1,
   "metadata": {},
   "outputs": [],
   "source": [
    "# 필요한 라이브러리 설정\n",
    "import torch\n",
    "from torch import nn\n",
    "import torch.nn.functional as F\n",
    "from torch.utils.data import DataLoader\n",
    "from torch.testing import make_tensor\n",
    "from torch.utils.tensorboard import SummaryWriter\n",
    "\n",
    "from os.path import join\n",
    "from tqdm import tqdm\n",
    "import datetime\n",
    "\n",
    "from CBDtorch.vaelstm import *\n",
    "from CBDtorch.custom import Dataset4autoencoder\n",
    "from CBDtorch.dirs import *\n"
   ]
  },
  {
   "cell_type": "code",
   "execution_count": 2,
   "metadata": {},
   "outputs": [],
   "source": [
    "######### 설정 영역 ########\n",
    "# 실험 관련 세팅\n",
    "exp_name = 'tor_vaelstm_20220520'  # 실험 이름 혹은 오늘 날짜\n",
    "modelVersion = 'vaelstm_1st_torch'\n",
    "nameDataset = 'IWALQQ_AE_1st'\n",
    "dataType = 'angle' # VAE 나 AE 모델에서는 안중요하지만 추후 모델 predict일 때 편하게 하기 위해서 패킹을 이렇게 해둠\n",
    "\n",
    "# 데이터 feature 정보, 추후에 자동화가 필요할랑가?\n",
    "seq_len = 101\n",
    "num_features = 42\n",
    "#################################\n",
    "# 여기는 grid로 돌림! 이제 grid 포함이 default!\n",
    "#################################\n",
    "list_embedding_dim = {0: 30,} \n",
    "list_learningRate = {0: 0.006}  # opt1\n",
    "list_batch_size = {0: 128}  # opt2\n",
    "list_lossFunction = {0: \"VAE\"}  # opt2\n",
    "\n",
    "totalFold = 5  # total fold, I did 5-fold cross validation\n",
    "epochs = 5  # total epoch\n",
    "log_interval = 10  # frequency for saving log file\n",
    "\n",
    "# 데이터 위치\n",
    "absDataDir = r'/restricted/project/movelab/bcha/IMUforKnee/preperation/SAVE_dataSet'\n",
    "dataSetDir = join(absDataDir,nameDataset)\n",
    "# 모델 위치\n",
    "SaveDir = r'/restricted/projectnb/movelab/bcha/IMUforKnee/trainedModel'\n",
    "logDir = r'/restricted/project/movelab/bcha/IMUforKnee/training/logs'"
   ]
  },
  {
   "cell_type": "code",
   "execution_count": 4,
   "metadata": {},
   "outputs": [
    {
     "data": {
      "text/plain": [
       "RecurrentVariationalAutoencoder(\n",
       "  (encoder): VariationalEncoder(\n",
       "    (rnn1): LSTM(42, 60, batch_first=True, bidirectional=True)\n",
       "    (rnn2): LSTM(120, 30, batch_first=True, bidirectional=True)\n",
       "    (mu): Linear(in_features=60, out_features=30, bias=True)\n",
       "    (sigma): Linear(in_features=60, out_features=30, bias=True)\n",
       "  )\n",
       "  (decoder): Decoder(\n",
       "    (rnn1): LSTM(30, 30, batch_first=True, bidirectional=True)\n",
       "    (rnn2): LSTM(60, 60, batch_first=True, bidirectional=True)\n",
       "    (output_layer): Linear(in_features=120, out_features=42, bias=True)\n",
       "    (timedist): TimeDistributed(\n",
       "      (module): Linear(in_features=120, out_features=42, bias=True)\n",
       "    )\n",
       "  )\n",
       ")"
      ]
     },
     "execution_count": 4,
     "metadata": {},
     "output_type": "execute_result"
    }
   ],
   "source": [
    "dir_save_torch = join(SaveDir,modelVersion,nameDataset)\n",
    "# 수정된 방법으로 모델 불러올 떄\n",
    "# Model class must be defined somewhere\n",
    "numFold = 0\n",
    "model = torch.load(join(dir_save_torch,f'{dataType}_{numFold}_fold.pt'))\n",
    "model.eval() # 항상 필요함!!! 모델을 불렀을 떄는 항상 넣기"
   ]
  },
  {
   "cell_type": "code",
   "execution_count": 5,
   "metadata": {},
   "outputs": [],
   "source": [
    "angle_train = Dataset4autoencoder(dataSetDir, dataType, 'train',numFold)\n",
    "angle_test  = Dataset4autoencoder(dataSetDir, dataType, 'test', numFold)\n",
    "train_loader = DataLoader(angle_train, batch_size=128, shuffle=True)\n",
    "test_loader = DataLoader(angle_test, batch_size=128, shuffle=True)"
   ]
  },
  {
   "cell_type": "code",
   "execution_count": 7,
   "metadata": {},
   "outputs": [],
   "source": [
    "X = next(iter(train_loader))"
   ]
  },
  {
   "cell_type": "code",
   "execution_count": 9,
   "metadata": {},
   "outputs": [],
   "source": [
    "X_hat = model(X)"
   ]
  },
  {
   "cell_type": "code",
   "execution_count": 12,
   "metadata": {},
   "outputs": [
    {
     "data": {
      "text/plain": [
       "(torch.Size([101, 42]), torch.Size([101, 42]))"
      ]
     },
     "execution_count": 12,
     "metadata": {},
     "output_type": "execute_result"
    }
   ],
   "source": [
    "X[0].shape, X_hat[0].shape"
   ]
  },
  {
   "cell_type": "code",
   "execution_count": null,
   "metadata": {},
   "outputs": [],
   "source": []
  }
 ],
 "metadata": {
  "interpreter": {
   "hash": "658a9c5b3d323e3210e486fb511d93c908db110777364f82495071cb58f332a9"
  },
  "kernelspec": {
   "display_name": "Python 3.8.13 ('imu')",
   "language": "python",
   "name": "python3"
  },
  "language_info": {
   "codemirror_mode": {
    "name": "ipython",
    "version": 3
   },
   "file_extension": ".py",
   "mimetype": "text/x-python",
   "name": "python",
   "nbconvert_exporter": "python",
   "pygments_lexer": "ipython3",
   "version": "3.8.13"
  },
  "orig_nbformat": 4
 },
 "nbformat": 4,
 "nbformat_minor": 2
}

{
 "cells": [
  {
   "cell_type": "code",
   "execution_count": 31,
   "metadata": {},
   "outputs": [],
   "source": [
    "import torch\n",
    "from torch import nn\n",
    "from sequitur.models import LSTM_AE\n",
    "from sequitur import quick_train\n",
    "import os\n",
    "from os.path import join\n",
    "import numpy as np"
   ]
  },
  {
   "cell_type": "code",
   "execution_count": 34,
   "metadata": {},
   "outputs": [],
   "source": [
    "# 데이터 불러오는 부분\n",
    "exp_name = 'torch_20220511' # 실험 이름 혹은 오늘 날짜\n",
    "modelVersion = 'Dense_1st_torch'\n",
    "nameDataset = 'IWALQQ_AE_1st'\n",
    "dataType = 'angle' # or moBWHT\n",
    "numFold = 0\n",
    "sess = 'train'\n",
    "# 파일 주소\n",
    "absDataDir = r'/restricted/project/movelab/bcha/IMUforKnee/preperation/SAVE_dataSet'\n",
    "dataSetDir = join(absDataDir,nameDataset)\n",
    "# 모델 위치\n",
    "SaveDir = r'/restricted/projectnb/movelab/bcha/IMUforKnee/trainedModel'\n",
    "logDir = r'/restricted/project/movelab/bcha/IMUforKnee/training/logs'\n",
    "# 데이터 불러오기\n",
    "load_data_X = np.load(join(dataSetDir,f\"{str(numFold)}_fold_final_{sess}.npz\"))[f'final_X_{sess}']"
   ]
  },
  {
   "cell_type": "code",
   "execution_count": null,
   "metadata": {},
   "outputs": [],
   "source": [
    "# 설정창\n",
    "learning_rate = 0.001"
   ]
  },
  {
   "cell_type": "code",
   "execution_count": 39,
   "metadata": {},
   "outputs": [
    {
     "data": {
      "text/plain": [
       "(722, 101, 42)"
      ]
     },
     "execution_count": 39,
     "metadata": {},
     "output_type": "execute_result"
    }
   ],
   "source": [
    "load_data_X.shape"
   ]
  },
  {
   "cell_type": "code",
   "execution_count": 67,
   "metadata": {},
   "outputs": [],
   "source": [
    "# 일단 첫번째꺼를 넣어보자\n",
    "train_set = torch.from_numpy(load_data_X).float() "
   ]
  },
  {
   "cell_type": "code",
   "execution_count": 68,
   "metadata": {},
   "outputs": [
    {
     "data": {
      "text/plain": [
       "torch.Size([722, 101, 42])"
      ]
     },
     "execution_count": 68,
     "metadata": {},
     "output_type": "execute_result"
    }
   ],
   "source": [
    "train_set.shape"
   ]
  },
  {
   "cell_type": "code",
   "execution_count": 75,
   "metadata": {},
   "outputs": [],
   "source": [
    "from sequitur.models import LSTM_AE\n",
    "\n",
    "model = LSTM_AE(\n",
    "  input_dim=42,\n",
    "  encoding_dim=7,\n",
    "  h_dims=[64],\n",
    "  h_activ=None,\n",
    "  out_activ=None\n",
    ")\n",
    "\n",
    "x = train_set[0]\n",
    "z = model.encoder(x) # z.shape = [7]\n",
    "x_prime = model.decoder(z, seq_len=101) # x_prime.shape = [10, 3]"
   ]
  },
  {
   "cell_type": "code",
   "execution_count": 74,
   "metadata": {},
   "outputs": [
    {
     "data": {
      "text/plain": [
       "tensor([[0.3772, 0.4992, 0.5005,  ..., 0.5899, 0.6025, 0.5877],\n",
       "        [0.4160, 0.4835, 0.5070,  ..., 0.5875, 0.6073, 0.5888],\n",
       "        [0.4554, 0.4677, 0.5148,  ..., 0.5851, 0.6123, 0.5900],\n",
       "        ...,\n",
       "        [0.5409, 0.3951, 0.5119,  ..., 0.6095, 0.6612, 0.5976],\n",
       "        [0.5203, 0.4049, 0.5131,  ..., 0.6103, 0.6486, 0.5994],\n",
       "        [0.4975, 0.4168, 0.5163,  ..., 0.6103, 0.6312, 0.6010]])"
      ]
     },
     "execution_count": 74,
     "metadata": {},
     "output_type": "execute_result"
    }
   ],
   "source": [
    "loss_func = nn.MSELoss()\n",
    "optimizer = torch.optim.Adam(model.parameters(), lr=learning_rate)"
   ]
  },
  {
   "cell_type": "code",
   "execution_count": 72,
   "metadata": {},
   "outputs": [
    {
     "data": {
      "text/plain": [
       "torch.Size([101, 42])"
      ]
     },
     "execution_count": 72,
     "metadata": {},
     "output_type": "execute_result"
    }
   ],
   "source": [
    "train_set[0].shape"
   ]
  },
  {
   "cell_type": "code",
   "execution_count": null,
   "metadata": {},
   "outputs": [],
   "source": []
  }
 ],
 "metadata": {
  "interpreter": {
   "hash": "658a9c5b3d323e3210e486fb511d93c908db110777364f82495071cb58f332a9"
  },
  "kernelspec": {
   "display_name": "Python 3.8.13 ('imu')",
   "language": "python",
   "name": "python3"
  },
  "language_info": {
   "codemirror_mode": {
    "name": "ipython",
    "version": 3
   },
   "file_extension": ".py",
   "mimetype": "text/x-python",
   "name": "python",
   "nbconvert_exporter": "python",
   "pygments_lexer": "ipython3",
   "version": "3.8.13"
  },
  "orig_nbformat": 4
 },
 "nbformat": 4,
 "nbformat_minor": 2
}

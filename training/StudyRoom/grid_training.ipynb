{
 "cells": [
  {
   "cell_type": "code",
   "execution_count": 1,
   "metadata": {},
   "outputs": [],
   "source": [
    "learningRate = {0:0.0001, 1:0.0002, 2:0.0005}\n",
    "batch_size = {0:16, 1:32, 2:64}\n",
    "lossFunction =  {0:\"RMSE\", 1:\"MAE\"}"
   ]
  },
  {
   "cell_type": "code",
   "execution_count": 6,
   "metadata": {},
   "outputs": [
    {
     "data": {
      "text/plain": [
       "3"
      ]
     },
     "execution_count": 6,
     "metadata": {},
     "output_type": "execute_result"
    }
   ],
   "source": [
    "len(batch_size)"
   ]
  },
  {
   "cell_type": "code",
   "execution_count": 3,
   "metadata": {},
   "outputs": [
    {
     "name": "stdout",
     "output_type": "stream",
     "text": [
      "count:0\n",
      "0.0001\n",
      "16\n",
      "RMSE\n",
      "count:1\n",
      "0.0001\n",
      "16\n",
      "MAE\n",
      "count:2\n",
      "0.0002\n",
      "32\n",
      "RMSE\n",
      "count:3\n",
      "0.0002\n",
      "32\n",
      "MAE\n",
      "count:4\n",
      "0.0005\n",
      "64\n",
      "RMSE\n",
      "count:5\n",
      "0.0005\n",
      "64\n",
      "MAE\n"
     ]
    }
   ],
   "source": [
    "count = 0\n",
    "for opt1 in range(0,len(learningRate)):\n",
    "    for opt2 in range(0,len(lossFunction)):\n",
    "        print(f\"count:{count}\")\n",
    "        print(learningRate[opt1])\n",
    "        print(batch_size[opt1])\n",
    "        print(lossFunction[opt2])\n",
    "        count = count + 1 "
   ]
  },
  {
   "cell_type": "code",
   "execution_count": null,
   "metadata": {},
   "outputs": [],
   "source": []
  }
 ],
 "metadata": {
  "interpreter": {
   "hash": "8027b976bef41ecb4ff26e7656eddf5218dd43e3122c2750571b73252d337b25"
  },
  "kernelspec": {
   "display_name": "Python 3.8.5 ('torchIMU')",
   "language": "python",
   "name": "python3"
  },
  "language_info": {
   "codemirror_mode": {
    "name": "ipython",
    "version": 3
   },
   "file_extension": ".py",
   "mimetype": "text/x-python",
   "name": "python",
   "nbconvert_exporter": "python",
   "pygments_lexer": "ipython3",
   "version": "3.8.5"
  },
  "orig_nbformat": 4
 },
 "nbformat": 4,
 "nbformat_minor": 2
}

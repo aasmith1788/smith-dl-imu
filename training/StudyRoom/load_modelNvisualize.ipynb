{
 "cells": [
  {
   "cell_type": "code",
   "execution_count": null,
   "metadata": {},
   "outputs": [],
   "source": [
    "import tensorflow as tf\n",
    "from tensorflow import keras\n",
    "from tensorflow.keras.optimizers import Nadam\n",
    "from keras.callbacks import EarlyStopping\n",
    "import numpy as np\n",
    "from os.path import join\n",
    "from pickle import load\n",
    "import shutil\n",
    "from sklearn.metrics import mean_squared_error\n",
    "import keras.backend as K\n",
    "import random\n",
    "import os\n",
    "import datetime\n"
   ]
  },
  {
   "cell_type": "code",
   "execution_count": null,
   "metadata": {},
   "outputs": [],
   "source": [
    "# 모델 불러올 때\n",
    "# 선언이 필요함\n",
    "def X_Axis_RMSE_pct(y_true, y_pred):\n",
    "    NumAxis = 0\n",
    "    y_true = tf.transpose(tf.reshape(tf.squeeze(y_true), [3,-1]))[:,NumAxis]\n",
    "    y_pred = tf.transpose(tf.reshape(tf.squeeze(y_pred), [3,-1]))[:,NumAxis]\n",
    "    y_true = (y_true - K.constant(load_scaler4Y_moBHWT.min_[NumAxis])) / K.constant(load_scaler4Y_moBHWT.scale_[NumAxis])\n",
    "    y_pred = (y_pred - K.constant(load_scaler4Y_moBHWT.min_[NumAxis])) / K.constant(load_scaler4Y_moBHWT.scale_[NumAxis])\n",
    "    # default is RMSE, squaredbool, default=True If True returns MSE value, if False returns RMSE value.\n",
    "    # https://scikit-learn.org/stable/modules/generated/sklearn.metrics.mean_squared_error.html\n",
    "    X_Axis_RMSE_pct = 100 * K.sqrt(K.mean(K.square(y_pred - y_true))) / (K.max(y_true) - K.min(y_true))\n",
    "    print(f\"\\nUsing {numFold} fold scaler\")\n",
    "    return X_Axis_RMSE_pct\n",
    "    \n",
    "def Y_Axis_RMSE_pct(y_true, y_pred):\n",
    "    NumAxis = 1\n",
    "    y_true = tf.transpose(tf.reshape(tf.squeeze(y_true), [3,-1]))[:,NumAxis]\n",
    "    y_pred = tf.transpose(tf.reshape(tf.squeeze(y_pred), [3,-1]))[:,NumAxis]\n",
    "    y_true = (y_true - K.constant(load_scaler4Y_moBHWT.min_[NumAxis])) / K.constant(load_scaler4Y_moBHWT.scale_[NumAxis])\n",
    "    y_pred = (y_pred - K.constant(load_scaler4Y_moBHWT.min_[NumAxis])) / K.constant(load_scaler4Y_moBHWT.scale_[NumAxis])\n",
    "    # default is RMSE, squaredbool, default=True If True returns MSE value, if False returns RMSE value.\n",
    "    # https://scikit-learn.org/stable/modules/generated/sklearn.metrics.mean_squared_error.html\n",
    "    Y_Axis_RMSE_pct = 100 * K.sqrt(K.mean(K.square(y_pred - y_true))) / (K.max(y_true) - K.min(y_true))\n",
    "    print(f\"\\nUsing {numFold} fold scaler\")\n",
    "    return Y_Axis_RMSE_pct\n",
    "\n",
    "def Z_Axis_RMSE_pct(y_true, y_pred):\n",
    "    NumAxis = 2\n",
    "    y_true = tf.transpose(tf.reshape(tf.squeeze(y_true), [3,-1]))[:,NumAxis]\n",
    "    y_pred = tf.transpose(tf.reshape(tf.squeeze(y_pred), [3,-1]))[:,NumAxis]\n",
    "    y_true = (y_true - K.constant(load_scaler4Y_moBHWT.min_[NumAxis])) / K.constant(load_scaler4Y_moBHWT.scale_[NumAxis])\n",
    "    y_pred = (y_pred - K.constant(load_scaler4Y_moBHWT.min_[NumAxis])) / K.constant(load_scaler4Y_moBHWT.scale_[NumAxis])\n",
    "    # default is RMSE, squaredbool, default=True If True returns MSE value, if False returns RMSE value.\n",
    "    # https://scikit-learn.org/stable/modules/generated/sklearn.metrics.mean_squared_error.html\n",
    "    Z_Axis_RMSE_pct = 100 * K.sqrt(K.mean(K.square(y_pred - y_true))) / (K.max(y_true) - K.min(y_true))\n",
    "    print(f\"\\nUsing {numFold} fold scaler\")\n",
    "    return Z_Axis_RMSE_pct\n"
   ]
  },
  {
   "cell_type": "code",
   "execution_count": 15,
   "metadata": {},
   "outputs": [
    {
     "name": "stderr",
     "output_type": "stream",
     "text": [
      "2022-04-22 14:57:04.925696: W tensorflow/python/util/util.cc:348] Sets are not currently considered sequences, but this may change in the future, so consider avoiding using them.\n"
     ]
    },
    {
     "name": "stdout",
     "output_type": "stream",
     "text": [
      "INFO:tensorflow:Assets written to: /restricted/projectnb/movelab/bcha/IMUforKnee/trainedModel/Dense_1st/IWALQQ_1st/test/assets\n"
     ]
    }
   ],
   "source": [
    "# Model 생성, compile\n",
    "def create_model():\n",
    "    model = tf.keras.Sequential([\n",
    "    tf.keras.layers.InputLayer(input_shape=(4242,)),\n",
    "    tf.keras.layers.Flatten(input_shape=(28, 28)),\n",
    "    tf.keras.layers.Dense(6000, activation='relu'),\n",
    "    tf.keras.layers.Dropout(0.5),\n",
    "    tf.keras.layers.Dense(4000, activation='relu'),  \n",
    "    tf.keras.layers.Dense(303, activation='linear'),  \n",
    "    ])\n",
    "\n",
    "    return model\n",
    "myoptim=Nadam(learning_rate=0.001, beta_1=0.9, beta_2=0.999, epsilon=1e-07, decay=0.0)\n",
    "\n",
    "model = create_model()\n",
    "model.compile(optimizer=myoptim,\n",
    "            loss='mean_absolute_error',\n",
    "            metrics=[X_Axis_RMSE_pct, Y_Axis_RMSE_pct, Z_Axis_RMSE_pct])\n",
    "SaveDir = '/restricted/projectnb/movelab/bcha/IMUforKnee/trainedModel/Dense_1st/IWALQQ_1st/test'\n",
    "model.save(SaveDir)"
   ]
  },
  {
   "cell_type": "code",
   "execution_count": 23,
   "metadata": {},
   "outputs": [],
   "source": [
    "imported =  keras.models.load_model(SaveDir, custom_objects={\"X_Axis_RMSE_pct\": X_Axis_RMSE_pct,'Y_Axis_RMSE_pct':Y_Axis_RMSE_pct,'Z_Axis_RMSE_pct':Z_Axis_RMSE_pct})"
   ]
  },
  {
   "cell_type": "code",
   "execution_count": 24,
   "metadata": {},
   "outputs": [
    {
     "name": "stdout",
     "output_type": "stream",
     "text": [
      "Model: \"sequential_2\"\n",
      "_________________________________________________________________\n",
      "Layer (type)                 Output Shape              Param #   \n",
      "=================================================================\n",
      "flatten_2 (Flatten)          (None, 4242)              0         \n",
      "_________________________________________________________________\n",
      "dense_6 (Dense)              (None, 6000)              25458000  \n",
      "_________________________________________________________________\n",
      "dropout_2 (Dropout)          (None, 6000)              0         \n",
      "_________________________________________________________________\n",
      "dense_7 (Dense)              (None, 4000)              24004000  \n",
      "_________________________________________________________________\n",
      "dense_8 (Dense)              (None, 303)               1212303   \n",
      "=================================================================\n",
      "Total params: 50,674,303\n",
      "Trainable params: 50,674,303\n",
      "Non-trainable params: 0\n",
      "_________________________________________________________________\n"
     ]
    }
   ],
   "source": [
    "imported.summary()"
   ]
  },
  {
   "cell_type": "markdown",
   "metadata": {},
   "source": [
    "# 불러온 모델에 실제 데이터 넣고 결과보기"
   ]
  },
  {
   "cell_type": "code",
   "execution_count": 26,
   "metadata": {},
   "outputs": [],
   "source": [
    "dataSetDir = '../DATASET/IWALQQ_1st'\n",
    "numFold = 0\n",
    "\n",
    "load_train = np.load(join(dataSetDir,f\"{numFold}_fold_final_train.npz\"))\n",
    "load_test = np.load(join(dataSetDir,f\"{numFold}_fold_final_test.npz\"))\n",
    "load_scaler4Y_moBHWT = load(open(join(dataSetDir,f\"{numFold}_fold_scaler4Y_moBHWT.pkl\"), 'rb'))"
   ]
  },
  {
   "cell_type": "code",
   "execution_count": 27,
   "metadata": {},
   "outputs": [
    {
     "data": {
      "text/plain": [
       "(722, 4242, 1)"
      ]
     },
     "execution_count": 27,
     "metadata": {},
     "output_type": "execute_result"
    }
   ],
   "source": [
    "load_train[\"final_X_train\"].shape"
   ]
  },
  {
   "cell_type": "code",
   "execution_count": 55,
   "metadata": {},
   "outputs": [],
   "source": [
    "# 정답데이터\n",
    "X_test = np.squeeze(load_test[\"final_X_test\"][0], axis=1)\n",
    "Y_moBHWT_test = load_test[\"final_Y_moBHWT_test\"][0]\n",
    "Y_moBHWT_test = tf.convert_to_tensor(Y_moBHWT_test,dtype='float32')"
   ]
  },
  {
   "cell_type": "code",
   "execution_count": 62,
   "metadata": {},
   "outputs": [],
   "source": [
    "X_test_re = np.reshape(X_test,[-1,len(X_test)])"
   ]
  },
  {
   "cell_type": "code",
   "execution_count": 63,
   "metadata": {},
   "outputs": [
    {
     "data": {
      "text/plain": [
       "(1, 4242)"
      ]
     },
     "execution_count": 63,
     "metadata": {},
     "output_type": "execute_result"
    }
   ],
   "source": [
    "X_test_re.shape"
   ]
  },
  {
   "cell_type": "code",
   "execution_count": 65,
   "metadata": {},
   "outputs": [],
   "source": [
    "result = imported.predict(X_test_re)"
   ]
  },
  {
   "cell_type": "code",
   "execution_count": 70,
   "metadata": {},
   "outputs": [],
   "source": [
    "t_result = np.transpose(result)"
   ]
  },
  {
   "cell_type": "code",
   "execution_count": 72,
   "metadata": {},
   "outputs": [
    {
     "data": {
      "image/png": "[encoded data removed]",
      "text/plain": [
       "<Figure size 432x288 with 1 Axes>"
      ]
     },
     "metadata": {
      "needs_background": "light"
     },
     "output_type": "display_data"
    }
   ],
   "source": [
    "import matplotlib.pyplot as plt\n",
    "import numpy as np\n",
    "\n",
    "xpoints = np.array([_ for _ in range(0,303)])\n",
    "ypoints = np.array(Y_moBHWT_test)\n",
    "ypoints_2 = np.array(t_result)\n",
    "\n",
    "plt.plot(xpoints, ypoints, xpoints, ypoints_2)\n",
    "plt.show()"
   ]
  },
  {
   "cell_type": "code",
   "execution_count": null,
   "metadata": {},
   "outputs": [],
   "source": []
  }
 ],
 "metadata": {
  "interpreter": {
   "hash": "e9017f964ece69a1881201e9842c94c23e00b0e3c9573699033b2bdebcff634b"
  },
  "kernelspec": {
   "display_name": "Python 3.8.0 ('sccIMU')",
   "language": "python",
   "name": "python3"
  },
  "language_info": {
   "codemirror_mode": {
    "name": "ipython",
    "version": 3
   },
   "file_extension": ".py",
   "mimetype": "text/x-python",
   "name": "python",
   "nbconvert_exporter": "python",
   "pygments_lexer": "ipython3",
   "version": "3.8.0"
  },
  "orig_nbformat": 4
 },
 "nbformat": 4,
 "nbformat_minor": 2
}

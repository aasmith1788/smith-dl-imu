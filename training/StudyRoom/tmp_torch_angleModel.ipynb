{
 "cells": [
  {
   "cell_type": "code",
   "execution_count": null,
   "metadata": {},
   "outputs": [],
   "source": [
    "import torch\n",
    "from torch import nn\n",
    "import torch.nn.functional as F\n",
    "from torch.utils.data import DataLoader\n",
    "import torchvision\n",
    "from torchvision import datasets, transforms\n",
    "from torchvision.transforms import ToTensor, Lambda, Compose\n",
    "import numpy as np\n",
    "from sklearn.metrics import classification_report\n",
    "from sklearn.metrics import mean_squared_error\n",
    "\n",
    "from torch.utils.tensorboard import SummaryWriter\n",
    "import os\n",
    "from os.path import join\n",
    "from pickle import load\n",
    "from tqdm import tqdm\n",
    "import random\n",
    "import datetime\n"
   ]
  },
  {
   "cell_type": "code",
   "execution_count": 85,
   "metadata": {},
   "outputs": [],
   "source": [
    "# 개빠른가..?\n",
    "class Dataset(torch.utils.data.Dataset): \n",
    "  def __init__(self, dataSetDir, dataType, sess, numFold):\n",
    "      self.dataType = dataType # angle or moBWHT\n",
    "      self.sess = sess # train or test\n",
    "      self.load_Data_X = torch.from_numpy(np.load(join(dataSetDir,f\"{str(numFold)}_fold_final_{sess}.npz\"))[f'final_X_{self.sess}'])\n",
    "      self.load_Data_Y = torch.from_numpy(np.load(join(dataSetDir,f\"{str(numFold)}_fold_final_{sess}.npz\"))[f'final_Y_{self.dataType}_{self.sess}'])\n",
    "      self.load_Data_X = torch.squeeze(self.load_Data_X.type(torch.FloatTensor))\n",
    "      self.load_Data_Y = torch.squeeze(self.load_Data_Y.type(torch.FloatTensor))\n",
    "  def __len__(self):\n",
    "      return len(self.load_Data_X)\n",
    "\n",
    "  def __getitem__(self, idx):\n",
    "    X = self.load_Data_X[idx]\n",
    "    Y = self.load_Data_Y[idx]\n",
    "    return X, Y\n",
    "\n",
    "def ensure_dir(file_path):\n",
    "    if not os.path.exists(file_path):\n",
    "        os.makedirs(file_path)\n"
   ]
  },
  {
   "cell_type": "code",
   "execution_count": 88,
   "metadata": {},
   "outputs": [],
   "source": [
    "modelVersion = 'Dense_1st_torch'\n",
    "nameDataset = 'IWALQQ_1st'\n",
    "dataType = 'angle' # or moBWHT\n",
    "relativeDir = '../../preperation/SAVE_dataSet'\n",
    "dataSetDir = join(relativeDir,nameDataset)\n",
    "numFold = 0\n",
    "batch_size = 36\n",
    "\n",
    "angle_train = Dataset(dataSetDir, dataType, 'train',numFold)\n",
    "angle_test  = Dataset(dataSetDir, dataType, 'test', numFold)\n",
    "train_loader = DataLoader(angle_train, batch_size=batch_size, shuffle=True)\n",
    "test_loader = DataLoader(angle_test, batch_size=batch_size, shuffle=True)\n"
   ]
  },
  {
   "cell_type": "code",
   "execution_count": 89,
   "metadata": {},
   "outputs": [
    {
     "name": "stdout",
     "output_type": "stream",
     "text": [
      "0 torch.Size([36, 4242])\n",
      "1 torch.Size([36, 4242])\n",
      "2 torch.Size([36, 4242])\n",
      "3 torch.Size([36, 4242])\n",
      "4 torch.Size([36, 4242])\n",
      "5 torch.Size([36, 4242])\n",
      "6 torch.Size([36, 4242])\n",
      "7 torch.Size([36, 4242])\n",
      "8 torch.Size([36, 4242])\n",
      "9 torch.Size([36, 4242])\n",
      "10 torch.Size([36, 4242])\n",
      "11 torch.Size([36, 4242])\n",
      "12 torch.Size([36, 4242])\n",
      "13 torch.Size([36, 4242])\n",
      "14 torch.Size([36, 4242])\n",
      "15 torch.Size([36, 4242])\n",
      "16 torch.Size([36, 4242])\n",
      "17 torch.Size([36, 4242])\n",
      "18 torch.Size([36, 4242])\n",
      "19 torch.Size([36, 4242])\n",
      "20 torch.Size([2, 4242])\n"
     ]
    }
   ],
   "source": [
    "for batch_idx, (data, target) in enumerate(train_loader):\n",
    "    print(batch_idx, data.shape)"
   ]
  },
  {
   "cell_type": "code",
   "execution_count": null,
   "metadata": {},
   "outputs": [],
   "source": []
  }
 ],
 "metadata": {
  "interpreter": {
   "hash": "8027b976bef41ecb4ff26e7656eddf5218dd43e3122c2750571b73252d337b25"
  },
  "kernelspec": {
   "display_name": "Python 3.8.13 ('torchIMU')",
   "language": "python",
   "name": "python3"
  },
  "language_info": {
   "codemirror_mode": {
    "name": "ipython",
    "version": 3
   },
   "file_extension": ".py",
   "mimetype": "text/x-python",
   "name": "python",
   "nbconvert_exporter": "python",
   "pygments_lexer": "ipython3",
   "version": "3.8.5"
  },
  "orig_nbformat": 4
 },
 "nbformat": 4,
 "nbformat_minor": 2
}

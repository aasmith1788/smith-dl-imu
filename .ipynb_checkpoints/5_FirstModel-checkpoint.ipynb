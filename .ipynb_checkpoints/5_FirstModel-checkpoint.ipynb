{
 "cells": [
  {
   "cell_type": "code",
   "execution_count": 7,
   "metadata": {},
   "outputs": [
    {
     "name": "stdout",
     "output_type": "stream",
     "text": [
      "\n",
      "CommandNotFoundError: Your shell has not been properly configured to use 'conda activate'.\n",
      "To initialize your shell, run\n",
      "\n",
      "    $ conda init <SHELL_NAME>\n",
      "\n",
      "Currently supported shells are:\n",
      "  - bash\n",
      "  - fish\n",
      "  - tcsh\n",
      "  - xonsh\n",
      "  - zsh\n",
      "  - powershell\n",
      "\n",
      "See 'conda init --help' for more information and options.\n",
      "\n",
      "IMPORTANT: You may need to close and restart your shell after running 'conda init'.\n",
      "\n",
      "\n",
      "\n",
      "Note: you may need to restart the kernel to use updated packages.\n"
     ]
    }
   ],
   "source": [
    "%conda activate gccIMU"
   ]
  },
  {
   "cell_type": "code",
   "execution_count": 1,
   "metadata": {},
   "outputs": [
    {
     "name": "stderr",
     "output_type": "stream",
     "text": [
      "Using TensorFlow backend.\n"
     ]
    }
   ],
   "source": [
    "import tensorflow as tf\n",
    "from tensorflow import keras\n",
    "from tensorflow.keras.optimizers import Nadam\n",
    "from keras.callbacks import EarlyStopping\n",
    "import numpy as np\n",
    "from os.path import join\n",
    "from pickle import load\n",
    "import shutil\n",
    "\n",
    "import datetime"
   ]
  },
  {
   "cell_type": "code",
   "execution_count": 4,
   "metadata": {},
   "outputs": [
    {
     "name": "stdout",
     "output_type": "stream",
     "text": [
      "2.4.1\n",
      "2.4.0\n"
     ]
    }
   ],
   "source": [
    "print(tf.__version__)\n",
    "print(keras.__version__)"
   ]
  },
  {
   "cell_type": "code",
   "execution_count": 4,
   "metadata": {},
   "outputs": [
    {
     "data": {
      "text/plain": [
       "[name: \"/device:CPU:0\"\n",
       " device_type: \"CPU\"\n",
       " memory_limit: 268435456\n",
       " locality {\n",
       " }\n",
       " incarnation: 14810671547319192926]"
      ]
     },
     "execution_count": 4,
     "metadata": {},
     "output_type": "execute_result"
    }
   ],
   "source": [
    "from tensorflow.python.client import device_lib\n",
    "device_lib.list_local_devices()"
   ]
  },
  {
   "cell_type": "code",
   "execution_count": 3,
   "metadata": {},
   "outputs": [
    {
     "name": "stderr",
     "output_type": "stream",
     "text": [
      "2022-04-12 16:35:47.441127: I tensorflow/compiler/jit/xla_cpu_device.cc:41] Not creating XLA devices, tf_xla_enable_xla_devices not set\n"
     ]
    },
    {
     "data": {
      "text/plain": [
       "[]"
      ]
     },
     "execution_count": 3,
     "metadata": {},
     "output_type": "execute_result"
    }
   ],
   "source": [
    "tf.config.list_physical_devices('GPU')"
   ]
  },
  {
   "cell_type": "code",
   "execution_count": 7,
   "metadata": {},
   "outputs": [
    {
     "name": "stderr",
     "output_type": "stream",
     "text": [
      "2022-04-12 16:07:59.876921: I tensorflow/core/common_runtime/process_util.cc:146] Creating new thread pool with default inter op setting: 28. Tune using inter_op_parallelism_threads for best performance.\n"
     ]
    },
    {
     "name": "stdout",
     "output_type": "stream",
     "text": [
      "Model: \"sequential\"\n",
      "_________________________________________________________________\n",
      "Layer (type)                 Output Shape              Param #   \n",
      "=================================================================\n",
      "flatten (Flatten)            (None, 4242)              0         \n",
      "_________________________________________________________________\n",
      "dense (Dense)                (None, 6000)              25458000  \n",
      "_________________________________________________________________\n",
      "dropout (Dropout)            (None, 6000)              0         \n",
      "_________________________________________________________________\n",
      "dense_1 (Dense)              (None, 4000)              24004000  \n",
      "_________________________________________________________________\n",
      "dense_2 (Dense)              (None, 303)               1212303   \n",
      "=================================================================\n",
      "Total params: 50,674,303\n",
      "Trainable params: 50,674,303\n",
      "Non-trainable params: 0\n",
      "_________________________________________________________________\n"
     ]
    }
   ],
   "source": [
    "# Model 생성, compile\n",
    "modelType = 'Dense'\n",
    "model = tf.keras.models.Sequential([\n",
    "  tf.keras.layers.InputLayer(input_shape=(4242,)),\n",
    "  tf.keras.layers.Flatten(input_shape=(28, 28)),\n",
    "  tf.keras.layers.Dense(6000, activation='relu'),\n",
    "  tf.keras.layers.Dropout(0.5),\n",
    "  tf.keras.layers.Dense(4000, activation='relu'),  \n",
    "  tf.keras.layers.Dense(303, activation='linear'),  \n",
    "])\n",
    "model.summary()\n",
    "\n",
    "learningRate = 0.001\n",
    "patience = 10\n",
    "myoptim=Nadam(learning_rate=learningRate, beta_1=0.9, beta_2=0.999, epsilon=1e-07, decay=0.0)\n",
    "early_stopping = EarlyStopping(monitor='val_loss',patience = patience, mode='min') # 일단은 적당히 epoch 주고 돌리기\n",
    "\n",
    "# https://wandb.ai/sauravm/Optimizers/reports/How-to-Compare-Keras-Optimizers-in-Tensorflow--VmlldzoxNjU1OTA4\n",
    "# Nadam을 선택한 이유\n",
    "model.compile(optimizer=myoptim,\n",
    "              loss='mean_absolute_error',\n",
    "              metrics=['mae'])\n",
    "\n",
    "# 학습 조건 저장하기\n",
    "config = dict()\n",
    "config[\"model\"] = modelType\n",
    "config['patience'] = patience"
   ]
  },
  {
   "cell_type": "code",
   "execution_count": 9,
   "metadata": {},
   "outputs": [],
   "source": [
    "# 데이터 셋 준비\n",
    "dataSetDir = 'DATASET'\n",
    "scalerDir  = 'SCALER'"
   ]
  },
  {
   "cell_type": "markdown",
   "metadata": {},
   "source": [
    "# IMU for Joint Angles\n",
    "- IMU로 joint Angles 추론하기"
   ]
  },
  {
   "cell_type": "code",
   "execution_count": 10,
   "metadata": {},
   "outputs": [
    {
     "name": "stdout",
     "output_type": "stream",
     "text": [
      "Num of Fold: 0\n"
     ]
    },
    {
     "name": "stderr",
     "output_type": "stream",
     "text": [
      "2022-04-12 16:08:46.185316: I tensorflow/core/profiler/lib/profiler_session.cc:136] Profiler session initializing.\n",
      "2022-04-12 16:08:46.185346: I tensorflow/core/profiler/lib/profiler_session.cc:155] Profiler session started.\n",
      "2022-04-12 16:08:46.185398: I tensorflow/core/profiler/lib/profiler_session.cc:172] Profiler session tear down.\n"
     ]
    },
    {
     "name": "stdout",
     "output_type": "stream",
     "text": [
      "loaded Train shape: (722, 4242, 1), (722, 303, 1), (722, 303, 1)\n",
      "loaded Test shape: (155, 4242, 1), (155, 303, 1), (155, 303, 1)\n"
     ]
    },
    {
     "ename": "ModuleNotFoundError",
     "evalue": "No module named 'sklearn'",
     "output_type": "error",
     "traceback": [
      "\u001b[0;31m---------------------------------------------------------------------------\u001b[0m",
      "\u001b[0;31mModuleNotFoundError\u001b[0m                       Traceback (most recent call last)",
      "Input \u001b[0;32mIn [10]\u001b[0m, in \u001b[0;36m<cell line: 8>\u001b[0;34m()\u001b[0m\n\u001b[1;32m     15\u001b[0m \u001b[38;5;28mprint\u001b[39m(\u001b[38;5;124mf\u001b[39m\u001b[38;5;124m'\u001b[39m\u001b[38;5;124mloaded Test shape: \u001b[39m\u001b[38;5;132;01m{\u001b[39;00mload_test[\u001b[38;5;124m\"\u001b[39m\u001b[38;5;124mfinal_X_test\u001b[39m\u001b[38;5;124m\"\u001b[39m]\u001b[38;5;241m.\u001b[39mshape\u001b[38;5;132;01m}\u001b[39;00m\u001b[38;5;124m, \u001b[39m\u001b[38;5;132;01m{\u001b[39;00mload_test[\u001b[38;5;124m\"\u001b[39m\u001b[38;5;124mfinal_Y_angle_test\u001b[39m\u001b[38;5;124m\"\u001b[39m]\u001b[38;5;241m.\u001b[39mshape\u001b[38;5;132;01m}\u001b[39;00m\u001b[38;5;124m, \u001b[39m\u001b[38;5;132;01m{\u001b[39;00mload_test[\u001b[38;5;124m\"\u001b[39m\u001b[38;5;124mfinal_Y_moBHWT_test\u001b[39m\u001b[38;5;124m\"\u001b[39m]\u001b[38;5;241m.\u001b[39mshape\u001b[38;5;132;01m}\u001b[39;00m\u001b[38;5;124m'\u001b[39m)\n\u001b[1;32m     16\u001b[0m \u001b[38;5;66;03m# sclaer 불러오기\u001b[39;00m\n\u001b[1;32m     17\u001b[0m \u001b[38;5;66;03m# Here scaler is MinMaxScaler!\u001b[39;00m\n\u001b[0;32m---> 18\u001b[0m load_scaler4X \u001b[38;5;241m=\u001b[39m \u001b[43mload\u001b[49m\u001b[43m(\u001b[49m\u001b[38;5;28;43mopen\u001b[39;49m\u001b[43m(\u001b[49m\u001b[43mjoin\u001b[49m\u001b[43m(\u001b[49m\u001b[43mscalerDir\u001b[49m\u001b[43m,\u001b[49m\u001b[38;5;124;43mf\u001b[39;49m\u001b[38;5;124;43m\"\u001b[39;49m\u001b[38;5;132;43;01m{\u001b[39;49;00m\u001b[43mnumFold\u001b[49m\u001b[38;5;132;43;01m}\u001b[39;49;00m\u001b[38;5;124;43m_fold_scaler4X.pkl\u001b[39;49m\u001b[38;5;124;43m\"\u001b[39;49m\u001b[43m)\u001b[49m\u001b[43m,\u001b[49m\u001b[43m \u001b[49m\u001b[38;5;124;43m'\u001b[39;49m\u001b[38;5;124;43mrb\u001b[39;49m\u001b[38;5;124;43m'\u001b[39;49m\u001b[43m)\u001b[49m\u001b[43m)\u001b[49m\n\u001b[1;32m     19\u001b[0m load_scaler4Y_angle \u001b[38;5;241m=\u001b[39m load(\u001b[38;5;28mopen\u001b[39m(join(scalerDir,\u001b[38;5;124mf\u001b[39m\u001b[38;5;124m\"\u001b[39m\u001b[38;5;132;01m{\u001b[39;00mnumFold\u001b[38;5;132;01m}\u001b[39;00m\u001b[38;5;124m_fold_scaler4Y_angle.pkl\u001b[39m\u001b[38;5;124m\"\u001b[39m), \u001b[38;5;124m'\u001b[39m\u001b[38;5;124mrb\u001b[39m\u001b[38;5;124m'\u001b[39m))\n\u001b[1;32m     20\u001b[0m load_scaler4Y_moBHWT \u001b[38;5;241m=\u001b[39m load(\u001b[38;5;28mopen\u001b[39m(join(scalerDir,\u001b[38;5;124mf\u001b[39m\u001b[38;5;124m\"\u001b[39m\u001b[38;5;132;01m{\u001b[39;00mnumFold\u001b[38;5;132;01m}\u001b[39;00m\u001b[38;5;124m_fold_scaler4Y_moBHWT.pkl\u001b[39m\u001b[38;5;124m\"\u001b[39m), \u001b[38;5;124m'\u001b[39m\u001b[38;5;124mrb\u001b[39m\u001b[38;5;124m'\u001b[39m))\n",
      "\u001b[0;31mModuleNotFoundError\u001b[0m: No module named 'sklearn'"
     ]
    }
   ],
   "source": [
    "# 준비된 K-fold data iteration\n",
    "log_dir = \"logs/fit/\" + datetime.datetime.now().strftime(\"%Y%m%d-%H%M%S\")\n",
    "# shutil.rmtree('./logs', ignore_errors=True) # 삭제는 신중ㅎ히\n",
    "# tensorboard 동작시키는 법 : tensorboard --logdir logs/fit\n",
    "tensorboard_callback = tf.keras.callbacks.TensorBoard(log_dir=log_dir, histogram_freq=1)\n",
    "\n",
    "epochs = 1000\n",
    "for numFold in range(0,5): # 5-fold crossvalidation\n",
    "    print(f\"Num of Fold: {numFold}\")\n",
    "    # 데이터 불러오기\n",
    "    # 모든 데이터는 scaled된 데이터임!\n",
    "    load_train = np.load(join(dataSetDir,f\"{numFold}_fold_final_train.npz\"))\n",
    "    load_test = np.load(join(dataSetDir,f\"{numFold}_fold_final_test.npz\"))\n",
    "    print(f'loaded Train shape: {load_train[\"final_X_train\"].shape}, {load_train[\"final_Y_angle_train\"].shape}, {load_train[\"final_Y_moBHWT_train\"].shape}')\n",
    "    print(f'loaded Test shape: {load_test[\"final_X_test\"].shape}, {load_test[\"final_Y_angle_test\"].shape}, {load_test[\"final_Y_moBHWT_test\"].shape}')\n",
    "    # sclaer 불러오기\n",
    "    # Here scaler is MinMaxScaler!\n",
    "    load_scaler4X = load(open(join(scalerDir,f\"{numFold}_fold_scaler4X.pkl\"), 'rb'))\n",
    "    load_scaler4Y_angle = load(open(join(scalerDir,f\"{numFold}_fold_scaler4Y_angle.pkl\"), 'rb'))\n",
    "    load_scaler4Y_moBHWT = load(open(join(scalerDir,f\"{numFold}_fold_scaler4Y_moBHWT.pkl\"), 'rb'))\n",
    "\n",
    "    # 차원 축소\n",
    "    X_train = np.squeeze(load_train[\"final_X_train\"], axis=2)\n",
    "    Y_angle_train = np.squeeze(load_train[\"final_Y_angle_train\"], axis=2)\n",
    "\n",
    "    X_test = np.squeeze(load_test[\"final_X_test\"], axis=2)\n",
    "    Y_angle_test = np.squeeze(load_test[\"final_Y_angle_test\"], axis=2)\n",
    "\n",
    "    # 요건 나중에... [early_stopping,]\n",
    "    history = model.fit(X_train, Y_angle_train, validation_data=(X_test,Y_angle_test), epochs=epochs, callbacks=[tensorboard_callback]) \n",
    "    break\n"
   ]
  },
  {
   "cell_type": "code",
   "execution_count": null,
   "metadata": {},
   "outputs": [],
   "source": []
  }
 ],
 "metadata": {
  "interpreter": {
   "hash": "833b58c5ff5abdd4ad28d40373cf4d49bbb57d9ec65bbe609aaeb188a76179b3"
  },
  "kernelspec": {
   "display_name": "Python 3 (ipykernel)",
   "language": "python",
   "name": "python3"
  },
  "language_info": {
   "codemirror_mode": {
    "name": "ipython",
    "version": 3
   },
   "file_extension": ".py",
   "mimetype": "text/x-python",
   "name": "python",
   "nbconvert_exporter": "python",
   "pygments_lexer": "ipython3",
   "version": "3.8.13"
  }
 },
 "nbformat": 4,
 "nbformat_minor": 2
}

{
 "cells": [
  {
   "cell_type": "markdown",
   "metadata": {},
   "source": [
    "# 본 코드는 checkpoint를 사용하는 법을 익히기 위함"
   ]
  },
  {
   "cell_type": "code",
   "execution_count": null,
   "metadata": {},
   "outputs": [],
   "source": [
    "import tensorflow as tf\n",
    "from tensorflow import keras\n",
    "from tensorflow.keras.optimizers import Nadam\n",
    "from keras.callbacks import EarlyStopping\n",
    "import numpy as np\n",
    "from os.path import join\n",
    "from pickle import load\n",
    "import shutil\n",
    "from sklearn.metrics import mean_squared_error\n",
    "import keras.backend as K\n",
    "import random\n",
    "import os\n",
    "import datetime\n",
    "\n",
    "def seed_everything(seed: int = 42):\n",
    "    random.seed(seed)\n",
    "    np.random.seed(seed)\n",
    "    os.environ[\"PYTHONHASHSEED\"] = str(seed)\n",
    "    tf.random.set_seed(seed)\n",
    "\n",
    "print(tf.__version__)\n",
    "print(keras.__version__)\n",
    "\n"
   ]
  },
  {
   "cell_type": "code",
   "execution_count": 42,
   "metadata": {},
   "outputs": [],
   "source": [
    "\n",
    "\n",
    "# Model 생성, compile\n",
    "modelType = 'Dense'\n",
    "\n",
    "def create_model():\n",
    "\n",
    "    model = tf.keras.models.Sequential([\n",
    "    tf.keras.layers.InputLayer(input_shape=(4242,)),\n",
    "    tf.keras.layers.Flatten(input_shape=(28, 28)),\n",
    "    tf.keras.layers.Dense(6000, activation='relu'),\n",
    "    tf.keras.layers.Dropout(0.5),\n",
    "    tf.keras.layers.Dense(4000, activation='relu'),  \n",
    "    tf.keras.layers.Dense(303, activation='linear'),  \n",
    "    ])\n",
    "\n",
    "    return model\n",
    "    \n",
    "learningRate = 0.0008 # 두번째 실험\n",
    "patience = 10\n",
    "myoptim=Nadam(learning_rate=learningRate, beta_1=0.9, beta_2=0.999, epsilon=1e-07, decay=0.0)\n",
    "early_stopping = EarlyStopping(monitor='val_loss',patience = patience, mode='min') # 일단은 적당히 epoch 주고 돌리기\n",
    "\n",
    "# 원래의 범위로 값 평가하기\n",
    "# 원래 정확도 복구해서 tensorboard에 기록하기\n",
    "def rescaled_RMSE(y_true, y_pred):\n",
    "    y_true = tf.reshape(tf.squeeze(y_true), [-1,3])\n",
    "    y_pred = tf.reshape(tf.squeeze(y_pred), [-1,3])\n",
    "    y_true = (y_true - K.constant(load_scaler4Y_angle.min_)) / K.constant(load_scaler4Y_angle.scale_)\n",
    "    y_pred = (y_pred - K.constant(load_scaler4Y_angle.min_)) / K.constant(load_scaler4Y_angle.scale_)\n",
    "    # default is RMSE, squaredbool, default=True If True returns MSE value, if False returns RMSE value.\n",
    "    # https://scikit-learn.org/stable/modules/generated/sklearn.metrics.mean_squared_error.html\n",
    "    rescaled_RMSE = K.sqrt(K.mean(K.square(y_pred - y_true)))\n",
    "    print(f\"\\nUsing {numFold} fold scaler\")\n",
    "    return rescaled_RMSE\n",
    "\n",
    "def X_Axis_RMSE(y_true, y_pred):\n",
    "    NumAxis = 0\n",
    "    y_true = tf.reshape(tf.squeeze(y_true), [-1,3])[NumAxis]\n",
    "    y_pred = tf.reshape(tf.squeeze(y_pred), [-1,3])[NumAxis]\n",
    "    print(y_true.shape)\n",
    "    y_true = (y_true - K.constant(load_scaler4Y_angle.min_[NumAxis])) / K.constant(load_scaler4Y_angle.scale_[NumAxis])\n",
    "    y_pred = (y_pred - K.constant(load_scaler4Y_angle.min_[NumAxis])) / K.constant(load_scaler4Y_angle.scale_[NumAxis])\n",
    "    # default is RMSE, squaredbool, default=True If True returns MSE value, if False returns RMSE value.\n",
    "    # https://scikit-learn.org/stable/modules/generated/sklearn.metrics.mean_squared_error.html\n",
    "    X_Axis_RMSE = K.sqrt(K.mean(K.square(y_pred - y_true)))\n",
    "    print(f\"\\nUsing {numFold} fold scaler\")\n",
    "    return X_Axis_RMSE\n",
    "    \n",
    "def Y_Axis_RMSE(y_true, y_pred):\n",
    "    NumAxis = 1\n",
    "    y_true = tf.reshape(tf.squeeze(y_true), [-1,3])[NumAxis]\n",
    "    y_pred = tf.reshape(tf.squeeze(y_pred), [-1,3])[NumAxis]\n",
    "    print(y_true.shape)\n",
    "    y_true = (y_true - K.constant(load_scaler4Y_angle.min_[NumAxis])) / K.constant(load_scaler4Y_angle.scale_[NumAxis])\n",
    "    y_pred = (y_pred - K.constant(load_scaler4Y_angle.min_[NumAxis])) / K.constant(load_scaler4Y_angle.scale_[NumAxis])\n",
    "    # default is RMSE, squaredbool, default=True If True returns MSE value, if False returns RMSE value.\n",
    "    # https://scikit-learn.org/stable/modules/generated/sklearn.metrics.mean_squared_error.html\n",
    "    Y_Axis_RMSE = K.sqrt(K.mean(K.square(y_pred - y_true)))\n",
    "    print(f\"\\nUsing {numFold} fold scaler\")\n",
    "    return Y_Axis_RMSE\n",
    "\n",
    "def Z_Axis_RMSE(y_true, y_pred):\n",
    "    NumAxis = 2\n",
    "    y_true = tf.reshape(tf.squeeze(y_true), [-1,3])[NumAxis]\n",
    "    y_pred = tf.reshape(tf.squeeze(y_pred), [-1,3])[NumAxis]\n",
    "    print(y_true.shape)\n",
    "    y_true = (y_true - K.constant(load_scaler4Y_angle.min_[NumAxis])) / K.constant(load_scaler4Y_angle.scale_[NumAxis])\n",
    "    y_pred = (y_pred - K.constant(load_scaler4Y_angle.min_[NumAxis])) / K.constant(load_scaler4Y_angle.scale_[NumAxis])\n",
    "    # default is RMSE, squaredbool, default=True If True returns MSE value, if False returns RMSE value.\n",
    "    # https://scikit-learn.org/stable/modules/generated/sklearn.metrics.mean_squared_error.html\n",
    "    Z_Axis_RMSE = K.sqrt(K.mean(K.square(y_pred - y_true)))\n",
    "    print(f\"\\nUsing {numFold} fold scaler\")\n",
    "    return Z_Axis_RMSE\n",
    "\n",
    "\n",
    "\n",
    "# 학습 조건 저장하기\n",
    "config = dict()\n",
    "config[\"model\"] = modelType\n",
    "config['patience'] = patience\n",
    "\n",
    "# 데이터 셋 준비\n",
    "# 데이터 셋 준비\n",
    "dataSetDir = r'Z:\\PROJECTS\\iwalqq\\Data\\V3D\\Output\\IMU Deep Learning\\Data\\20220325_raw_byDeepak_csv\\INC_ByStep\\INC_ByZero\\Included_checked\\SAVE_dataSet'\n",
    "scalerDir  = r'Z:\\PROJECTS\\iwalqq\\Data\\V3D\\Output\\IMU Deep Learning\\Data\\20220325_raw_byDeepak_csv\\INC_ByStep\\INC_ByZero\\Included_checked\\SAVE_fittedScaler'\n",
    "\n",
    "# 준비된 K-fold data iterations\n",
    "time = datetime.datetime.now().strftime(\"%Y%m%d-%H%M%S\")\n",
    "\n",
    "SaveModelDir = 'SavedModel'\n",
    "# shutil.rmtree('./logs', ignore_errors=True) # 삭제는 신중ㅎ히\n",
    "# tensorboard 동작시키는 법 : tensorboard --logdir logs/fit\n"
   ]
  },
  {
   "cell_type": "code",
   "execution_count": 39,
   "metadata": {},
   "outputs": [],
   "source": [
    "# Include the epoch in the file name (uses `str.format`)\n",
    "checkpoint_path = \"training/cp-{epoch:04d}.hdf5\"\n",
    "checkpoint_dir = os.path.dirname(checkpoint_path)#previoulsy, checkpoint_path = \"training_1/cp.ckpt\"\n",
    "cp_callback = tf.keras.callbacks.ModelCheckpoint(filepath=checkpoint_path,\n",
    "                                                save_best_only=True,\n",
    "                                                save_weights_only=True,\n",
    "                                                save_freq=200,\n",
    "                                                monitor='loss',\n",
    "                                                mode='min',\n",
    "                                                verbose=1)# Train the model with the new callback"
   ]
  },
  {
   "cell_type": "code",
   "execution_count": 40,
   "metadata": {},
   "outputs": [
    {
     "name": "stdout",
     "output_type": "stream",
     "text": [
      "\n",
      "Using 0 fold scaler\n",
      "(3,)\n",
      "\n",
      "Using 0 fold scaler\n",
      "(3,)\n",
      "\n",
      "Using 0 fold scaler\n",
      "(3,)\n",
      "\n",
      "Using 0 fold scaler\n",
      "\n",
      "Using 0 fold scaler\n",
      "(3,)\n",
      "\n",
      "Using 0 fold scaler\n",
      "(3,)\n",
      "\n",
      "Using 0 fold scaler\n",
      "(3,)\n",
      "\n",
      "Using 0 fold scaler\n",
      "23/23 [==============================] - ETA: 0s - loss: 0.1422 - rescaled_RMSE: 10.1001 - X_Axis_RMSE: 10.9860 - Y_Axis_RMSE: 3.8290 - Z_Axis_RMSE: 6.9214\n",
      "Using 0 fold scaler\n",
      "(3,)\n",
      "\n",
      "Using 0 fold scaler\n",
      "(3,)\n",
      "\n",
      "Using 0 fold scaler\n",
      "(3,)\n",
      "\n",
      "Using 0 fold scaler\n",
      "23/23 [==============================] - 34s 1s/step - loss: 0.1422 - rescaled_RMSE: 10.1001 - X_Axis_RMSE: 10.9860 - Y_Axis_RMSE: 3.8290 - Z_Axis_RMSE: 6.9214 - val_loss: 0.0903 - val_rescaled_RMSE: 8.3855 - val_X_Axis_RMSE: 3.0027 - val_Y_Axis_RMSE: 1.4971 - val_Z_Axis_RMSE: 2.8059\n",
      "INFO:tensorflow:Assets written to: SavedModel\\0_fold_my_model_20220420-162717\\assets\n"
     ]
    }
   ],
   "source": [
    "epochs = 1\n",
    "for numFold in range(0,1): # 5-fold crossvalidation\n",
    "    # 각 fold 별로 별도로 표기하기\n",
    "    log_dir = \"logs/fit/\" + str(numFold) + '_fold_' + time\n",
    "    tensorboard_callback = tf.keras.callbacks.TensorBoard(log_dir=log_dir, histogram_freq=1)\n",
    "    # print(f\"Num of Fold: {numFold}\")\n",
    "    # 데이터 불러오기\n",
    "    # 모든 데이터는 scaled된 데이터임!\n",
    "    load_train = np.load(join(dataSetDir,f\"{numFold}_fold_final_train.npz\"))\n",
    "    load_test = np.load(join(dataSetDir,f\"{numFold}_fold_final_test.npz\"))\n",
    "    # print(f'loaded Train shape: {load_train[\"final_X_train\"].shape}, {load_train[\"final_Y_angle_train\"].shape}, {load_train[\"final_Y_moBHWT_train\"].shape}')\n",
    "    # print(f'loaded Test shape: {load_test[\"final_X_test\"].shape}, {load_test[\"final_Y_angle_test\"].shape}, {load_test[\"final_Y_moBHWT_test\"].shape}')\n",
    "    # sclaer 불러오기\n",
    "    # Here scaler is MinMaxScaler!\n",
    "    load_scaler4X = load(open(join(scalerDir,f\"{numFold}_fold_scaler4X.pkl\"), 'rb'))\n",
    "    load_scaler4Y_angle = load(open(join(scalerDir,f\"{numFold}_fold_scaler4Y_angle.pkl\"), 'rb'))\n",
    "    load_scaler4Y_moBHWT = load(open(join(scalerDir,f\"{numFold}_fold_scaler4Y_moBHWT.pkl\"), 'rb'))\n",
    "\n",
    "    # https://wandb.ai/sauravm/Optimizers/reports/How-to-Compare-Keras-Optimizers-in-Tensorflow--VmlldzoxNjU1OTA4\n",
    "    # Nadam을 선택한 이유\n",
    "    model = create_model()\n",
    "    model.compile(optimizer=myoptim,\n",
    "              loss='mean_absolute_error',\n",
    "              metrics=[rescaled_RMSE, X_Axis_RMSE, Y_Axis_RMSE, Z_Axis_RMSE])\n",
    "    # 차원 축소\n",
    "    X_train = np.squeeze(load_train[\"final_X_train\"], axis=2)\n",
    "    Y_angle_train = np.squeeze(load_train[\"final_Y_angle_train\"], axis=2)\n",
    "\n",
    "    X_test = np.squeeze(load_test[\"final_X_test\"], axis=2)\n",
    "    Y_angle_test = np.squeeze(load_test[\"final_Y_angle_test\"], axis=2)\n",
    "\n",
    "    # 요건 나중에... [early_stopping,]\n",
    "    history = model.fit(X_train, Y_angle_train, validation_data=(X_test,Y_angle_test), epochs=epochs, callbacks=[tensorboard_callback,cp_callback])\n",
    "\n",
    "    # 모델은 확실해지면 저장하기\n",
    "    model.save(join(SaveModelDir,time + f\"{numFold}_fold_my_model_\"))\n"
   ]
  },
  {
   "cell_type": "code",
   "execution_count": null,
   "metadata": {},
   "outputs": [],
   "source": [
    "# checkpoint 불러올 때\n",
    "model.load_weights(r'./training/cp-0007.hdf5')# Re-evaluate the model"
   ]
  },
  {
   "cell_type": "code",
   "execution_count": 43,
   "metadata": {},
   "outputs": [],
   "source": [
    "model=create_model()"
   ]
  },
  {
   "cell_type": "code",
   "execution_count": 44,
   "metadata": {},
   "outputs": [
    {
     "name": "stdout",
     "output_type": "stream",
     "text": [
      "WARNING:tensorflow:Compiled the loaded model, but the compiled metrics have yet to be built. `model.compile_metrics` will be empty until you train or evaluate the model.\n"
     ]
    }
   ],
   "source": [
    "model.save('test.h5')"
   ]
  },
  {
   "cell_type": "code",
   "execution_count": 46,
   "metadata": {},
   "outputs": [
    {
     "name": "stdout",
     "output_type": "stream",
     "text": [
      "WARNING:tensorflow:No training configuration found in the save file, so the model was *not* compiled. Compile it manually.\n"
     ]
    }
   ],
   "source": [
    "model = keras.models.load_model('test.h5')"
   ]
  },
  {
   "cell_type": "code",
   "execution_count": null,
   "metadata": {},
   "outputs": [],
   "source": []
  }
 ],
 "metadata": {
  "interpreter": {
   "hash": "6afbe383263539ad7050e063937c55ebe70595122907f9c14e92dfb99f36908c"
  },
  "kernelspec": {
   "display_name": "Python 3.8.0 ('buIMU')",
   "language": "python",
   "name": "python3"
  },
  "language_info": {
   "codemirror_mode": {
    "name": "ipython",
    "version": 3
   },
   "file_extension": ".py",
   "mimetype": "text/x-python",
   "name": "python",
   "nbconvert_exporter": "python",
   "pygments_lexer": "ipython3",
   "version": "3.8.0"
  },
  "orig_nbformat": 4
 },
 "nbformat": 4,
 "nbformat_minor": 2
}

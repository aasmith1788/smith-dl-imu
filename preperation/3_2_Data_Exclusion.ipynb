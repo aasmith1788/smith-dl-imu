{
 "cells": [
  {
   "cell_type": "code",
   "execution_count": 13,
   "metadata": {},
   "outputs": [],
   "source": [
    "# 필요한 library\n",
    "import os\n",
    "from re import A\n",
    "import subprocess\n",
    "from natsort import natsorted\n",
    "import pandas as pd\n",
    "import keyboard\n",
    "import signal\n",
    "import subprocess\n",
    "import psutil\n",
    "import math\n",
    "import shutil\n",
    "import argparse\n",
    "from tqdm.notebook import tqdm\n",
    "from mpl_toolkits.axes_grid1 import host_subplot\n",
    "import mpl_toolkits.axisartist as AA\n",
    "import matplotlib.pyplot as plt\n",
    "import numpy as np\n",
    "from scipy import signal\n",
    "from os.path import join"
   ]
  },
  {
   "cell_type": "code",
   "execution_count": 14,
   "metadata": {},
   "outputs": [],
   "source": [
    "def make_dir(file_path):\n",
    "    if not os.path.exists(file_path):\n",
    "        os.makedirs(file_path)"
   ]
  },
  {
   "cell_type": "code",
   "execution_count": 15,
   "metadata": {},
   "outputs": [],
   "source": [
    "sigma_coef = 1\n",
    "peak_raw = pd.read_excel(r\"Z:\\PROJECTS\\iwalqq\\Data\\V3D\\Output\\IMU Deep Learning\\peak_reordered.xlsx\")\n",
    "peak_X = peak_raw[\"peak_X\"]\n",
    "peak_Y = peak_raw[\"peak_Y\"]\n",
    "mean_peak_X = peak_X.mean()\n",
    "mean_peak_Y = peak_Y.mean()\n",
    "std_peak_X = peak_X.std()\n",
    "std_peak_Y = peak_Y.std()\n",
    "data_after_exclusion = peak_raw[(peak_X>mean_peak_X-sigma_coef*std_peak_X)&(peak_X<mean_peak_X+sigma_coef*std_peak_X)&(peak_Y>mean_peak_Y-sigma_coef*std_peak_Y)& (peak_Y<mean_peak_Y+sigma_coef*std_peak_Y)]"
   ]
  },
  {
   "cell_type": "code",
   "execution_count": 21,
   "metadata": {},
   "outputs": [
    {
     "data": {
      "text/plain": [
       "Int64Index([  1,   2,   3,   4,   5,   6,   7,   8,  10,  11,\n",
       "            ...\n",
       "            866, 867, 868, 869, 870, 871, 872, 873, 874, 875],\n",
       "           dtype='int64', length=810)"
      ]
     },
     "execution_count": 21,
     "metadata": {},
     "output_type": "execute_result"
    }
   ],
   "source": [
    "data_after_exclusion.index"
   ]
  },
  {
   "cell_type": "code",
   "execution_count": 22,
   "metadata": {},
   "outputs": [],
   "source": [
    "# 파일 경로 설정\n",
    "dataDir =     r'Z:\\PROJECTS\\iwalqq\\Data\\V3D\\Output\\IMU Deep Learning\\Data\\allnew_20220325_raw_byDeepak_csv\\INC_ByStep\\INC_ByZero\\Included_checked'\n",
    "normDir =     os.path.join(dataDir,r'NORM')\n",
    "afterexcDir = os.path.join(dataDir,f'NORM_exclude_{sigma_coef}SIG')\n",
    "# 절대로 rawDir는 여기서 만들면 안됨\n",
    "# 이전 단계에서 미리 만들어져있어야 함\n",
    "make_dir(afterexcDir)\n",
    "dataExt = r\".csv\"\n",
    "# 파일목록 가져오기\n",
    "# 파일 목록 전체 들고오고 필요한 확장자만 고르고 들고온 파일 목록에서 .txt만 남기고 나머지 것들 제외시키기\n",
    "dataList = natsorted([_ for _ in os.listdir(normDir) if _.endswith(dataExt)])"
   ]
  },
  {
   "cell_type": "code",
   "execution_count": 23,
   "metadata": {},
   "outputs": [
    {
     "data": {
      "application/vnd.jupyter.widget-view+json": {
       "model_id": "36c5964644214b13b6b343b96c9847de",
       "version_major": 2,
       "version_minor": 0
      },
      "text/plain": [
       "0it [00:00, ?it/s]"
      ]
     },
     "metadata": {},
     "output_type": "display_data"
    },
    {
     "name": "stdout",
     "output_type": "stream",
     "text": [
      "총 포함된 데이터 수:810\n"
     ]
    }
   ],
   "source": [
    "# 목록 읽기\n",
    "listFromexcel = pd.read_excel(\"list_dataset_correction.xlsx\")\n",
    "listinclude = pd.DataFrame(columns=listFromexcel.columns)\n",
    "count = 0\n",
    "for idx ,file in tqdm(enumerate(dataList)):\n",
    "    if idx in data_after_exclusion.index:\n",
    "        shutil.copy(join(normDir,file),join(afterexcDir,file))\n",
    "        listinclude.loc[len(listinclude.index)] = listFromexcel.iloc[idx].astype(object)\n",
    "        count +=1\n",
    "print(f\"총 포함된 데이터 수:{count}\")\n",
    "listinclude.to_excel(f\"list_dataset_correction_EXCLUSION_{sigma_coef}SIG.xlsx\",index=False)"
   ]
  },
  {
   "cell_type": "code",
   "execution_count": 15,
   "metadata": {},
   "outputs": [
    {
     "data": {
      "text/html": [
       "<div>\n",
       "<style scoped>\n",
       "    .dataframe tbody tr th:only-of-type {\n",
       "        vertical-align: middle;\n",
       "    }\n",
       "\n",
       "    .dataframe tbody tr th {\n",
       "        vertical-align: top;\n",
       "    }\n",
       "\n",
       "    .dataframe thead th {\n",
       "        text-align: right;\n",
       "    }\n",
       "</style>\n",
       "<table border=\"1\" class=\"dataframe\">\n",
       "  <thead>\n",
       "    <tr style=\"text-align: right;\">\n",
       "      <th></th>\n",
       "      <th>patientID</th>\n",
       "      <th>dateVisit</th>\n",
       "      <th>speed</th>\n",
       "      <th>numtrial</th>\n",
       "      <th>side</th>\n",
       "      <th>numStep</th>\n",
       "    </tr>\n",
       "  </thead>\n",
       "  <tbody>\n",
       "    <tr>\n",
       "      <th>875</th>\n",
       "      <td>P297</td>\n",
       "      <td>100920</td>\n",
       "      <td>fw</td>\n",
       "      <td>14</td>\n",
       "      <td>oaleg</td>\n",
       "      <td>1</td>\n",
       "    </tr>\n",
       "  </tbody>\n",
       "</table>\n",
       "</div>"
      ],
      "text/plain": [
       "    patientID dateVisit speed numtrial   side numStep\n",
       "875      P297    100920    fw       14  oaleg       1"
      ]
     },
     "execution_count": 15,
     "metadata": {},
     "output_type": "execute_result"
    }
   ],
   "source": [
    "pd.DataFrame(listFromexcel.iloc[idx]).transpose()"
   ]
  },
  {
   "cell_type": "code",
   "execution_count": 16,
   "metadata": {},
   "outputs": [
    {
     "data": {
      "text/html": [
       "<div>\n",
       "<style scoped>\n",
       "    .dataframe tbody tr th:only-of-type {\n",
       "        vertical-align: middle;\n",
       "    }\n",
       "\n",
       "    .dataframe tbody tr th {\n",
       "        vertical-align: top;\n",
       "    }\n",
       "\n",
       "    .dataframe thead th {\n",
       "        text-align: right;\n",
       "    }\n",
       "</style>\n",
       "<table border=\"1\" class=\"dataframe\">\n",
       "  <thead>\n",
       "    <tr style=\"text-align: right;\">\n",
       "      <th></th>\n",
       "      <th>patientID</th>\n",
       "      <th>dateVisit</th>\n",
       "      <th>speed</th>\n",
       "      <th>numtrial</th>\n",
       "      <th>side</th>\n",
       "      <th>numStep</th>\n",
       "    </tr>\n",
       "  </thead>\n",
       "  <tbody>\n",
       "    <tr>\n",
       "      <th>0</th>\n",
       "      <td>P002</td>\n",
       "      <td>31220</td>\n",
       "      <td>w</td>\n",
       "      <td>7</td>\n",
       "      <td>nonleg</td>\n",
       "      <td>1</td>\n",
       "    </tr>\n",
       "    <tr>\n",
       "      <th>1</th>\n",
       "      <td>P002</td>\n",
       "      <td>31220</td>\n",
       "      <td>w</td>\n",
       "      <td>7</td>\n",
       "      <td>nonleg</td>\n",
       "      <td>2</td>\n",
       "    </tr>\n",
       "    <tr>\n",
       "      <th>2</th>\n",
       "      <td>P002</td>\n",
       "      <td>31220</td>\n",
       "      <td>w</td>\n",
       "      <td>7</td>\n",
       "      <td>oaleg</td>\n",
       "      <td>1</td>\n",
       "    </tr>\n",
       "    <tr>\n",
       "      <th>3</th>\n",
       "      <td>P002</td>\n",
       "      <td>31220</td>\n",
       "      <td>w</td>\n",
       "      <td>8</td>\n",
       "      <td>nonleg</td>\n",
       "      <td>1</td>\n",
       "    </tr>\n",
       "    <tr>\n",
       "      <th>4</th>\n",
       "      <td>P002</td>\n",
       "      <td>31220</td>\n",
       "      <td>w</td>\n",
       "      <td>8</td>\n",
       "      <td>oaleg</td>\n",
       "      <td>1</td>\n",
       "    </tr>\n",
       "    <tr>\n",
       "      <th>...</th>\n",
       "      <td>...</td>\n",
       "      <td>...</td>\n",
       "      <td>...</td>\n",
       "      <td>...</td>\n",
       "      <td>...</td>\n",
       "      <td>...</td>\n",
       "    </tr>\n",
       "    <tr>\n",
       "      <th>871</th>\n",
       "      <td>P297</td>\n",
       "      <td>100920</td>\n",
       "      <td>fw</td>\n",
       "      <td>8</td>\n",
       "      <td>oaleg</td>\n",
       "      <td>1</td>\n",
       "    </tr>\n",
       "    <tr>\n",
       "      <th>872</th>\n",
       "      <td>P297</td>\n",
       "      <td>100920</td>\n",
       "      <td>fw</td>\n",
       "      <td>9</td>\n",
       "      <td>oaleg</td>\n",
       "      <td>1</td>\n",
       "    </tr>\n",
       "    <tr>\n",
       "      <th>873</th>\n",
       "      <td>P297</td>\n",
       "      <td>100920</td>\n",
       "      <td>fw</td>\n",
       "      <td>10</td>\n",
       "      <td>oaleg</td>\n",
       "      <td>1</td>\n",
       "    </tr>\n",
       "    <tr>\n",
       "      <th>874</th>\n",
       "      <td>P297</td>\n",
       "      <td>100920</td>\n",
       "      <td>fw</td>\n",
       "      <td>11</td>\n",
       "      <td>oaleg</td>\n",
       "      <td>1</td>\n",
       "    </tr>\n",
       "    <tr>\n",
       "      <th>875</th>\n",
       "      <td>P297</td>\n",
       "      <td>100920</td>\n",
       "      <td>fw</td>\n",
       "      <td>14</td>\n",
       "      <td>oaleg</td>\n",
       "      <td>1</td>\n",
       "    </tr>\n",
       "  </tbody>\n",
       "</table>\n",
       "<p>876 rows × 6 columns</p>\n",
       "</div>"
      ],
      "text/plain": [
       "    patientID  dateVisit speed  numtrial    side  numStep\n",
       "0        P002      31220     w         7  nonleg        1\n",
       "1        P002      31220     w         7  nonleg        2\n",
       "2        P002      31220     w         7   oaleg        1\n",
       "3        P002      31220     w         8  nonleg        1\n",
       "4        P002      31220     w         8   oaleg        1\n",
       "..        ...        ...   ...       ...     ...      ...\n",
       "871      P297     100920    fw         8   oaleg        1\n",
       "872      P297     100920    fw         9   oaleg        1\n",
       "873      P297     100920    fw        10   oaleg        1\n",
       "874      P297     100920    fw        11   oaleg        1\n",
       "875      P297     100920    fw        14   oaleg        1\n",
       "\n",
       "[876 rows x 6 columns]"
      ]
     },
     "execution_count": 16,
     "metadata": {},
     "output_type": "execute_result"
    }
   ],
   "source": [
    "listFromexcel"
   ]
  },
  {
   "cell_type": "code",
   "execution_count": null,
   "metadata": {},
   "outputs": [],
   "source": []
  }
 ],
 "metadata": {
  "kernelspec": {
   "display_name": "Python 3.8.13 ('buIMU')",
   "language": "python",
   "name": "python3"
  },
  "language_info": {
   "codemirror_mode": {
    "name": "ipython",
    "version": 3
   },
   "file_extension": ".py",
   "mimetype": "text/x-python",
   "name": "python",
   "nbconvert_exporter": "python",
   "pygments_lexer": "ipython3",
   "version": "3.8.13"
  },
  "orig_nbformat": 4,
  "vscode": {
   "interpreter": {
    "hash": "b7f75e3f67c2e8328760c5f8e07c7b9104f46fb4b9635e1895ac42e507773c47"
   }
  }
 },
 "nbformat": 4,
 "nbformat_minor": 2
}

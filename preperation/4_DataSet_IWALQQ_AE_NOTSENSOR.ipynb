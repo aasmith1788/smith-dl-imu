{
 "cells": [
  {
   "cell_type": "markdown",
   "metadata": {},
   "source": [
    "# IWALQQ_AE_NOTSENSOR를 위한 데이터 코드"
   ]
  },
  {
   "cell_type": "markdown",
   "metadata": {},
   "source": [
    "## 목적\n",
    "- IWALQQ_AE 용 데이터셋을 만들기 위한 코드\n",
    "- 그리고 여기서는 sensorwise를 쓰는것이 아니라 featurewise를 사용한다\n",
    "\n",
    "## 목표\n",
    "- (N, row, column, channel) 순으로 데이터를 정리할 것\n",
    "    - N : 배치사이즈\n",
    "    - row: 세로길이, 여기서는 time normalization된 데이터를 사용하므로 101 개\n",
    "    - column: 총 feature의 개수. 2 type(Acc, Gyro) *  3 axis(x,y,z) * 7 sensors = 42개\n",
    "    - channel: 총 channel의 개수 1개\n",
    "## 비고\n",
    "- 해당 코드는 IWALQQ_1st_correction 이후에 만들어짐\n",
    "    - 따라서, 센서 coordinate system의 calibration이 적용된 allnew데이터 셋(***NORM_CORRECTION***)을 이용함"
   ]
  },
  {
   "cell_type": "code",
   "execution_count": 1,
   "metadata": {},
   "outputs": [],
   "source": [
    "# 필요한 라이브러리 불러오기\n",
    "import random\n",
    "import pandas as pd \n",
    "import numpy as np\n",
    "from numpy import savez_compressed\n",
    "from numpy import load\n",
    "from natsort import natsorted\n",
    "import os\n",
    "\n",
    "from sklearn.preprocessing import MinMaxScaler, StandardScaler ,RobustScaler\n",
    "from sklearn.model_selection import KFold\n",
    "\n",
    "from tqdm.notebook import trange, tqdm\n",
    "from os.path import join\n",
    "\n",
    "from pickle import dump, load\n",
    "\n",
    "# seed_rand = 777 # 2nd 777 # 1st 41\n",
    "# nameDataset = \"IWALQQ_AE_2nd\"\n",
    "\n",
    "seed_rand = 777 # 2nd,4th 777 # 1st,3rd 41\n",
    "nameDataset = \"IWALQQ_AE_4th_NOTSENSOR\""
   ]
  },
  {
   "cell_type": "code",
   "execution_count": 2,
   "metadata": {},
   "outputs": [],
   "source": [
    "# 필요한 함수 정의\n",
    "def makeColumnsWOMAG():\n",
    "    SIDEIDX = ['non','oa']\n",
    "    PARTIDX = ['shank','shoe','thigh']\n",
    "    TYPEIDX = ['ACC','GYRO','MAG']\n",
    "    AXISIDX = ['X', 'Y', 'Z']\n",
    "    LEGCOLUMNSLENGTH = 54\n",
    "    COl_imu_legs = [f'{SIDEIDX[int(i//(LEGCOLUMNSLENGTH/2))]}\\\n",
    "_{PARTIDX[(i//(len(TYPEIDX)*len(AXISIDX)))%len(PARTIDX)]}\\\n",
    "_{TYPEIDX[(i//(len(AXISIDX)))%len(TYPEIDX)]}\\\n",
    "_{AXISIDX[i%len(AXISIDX)]}' for i in range(0,LEGCOLUMNSLENGTH)]\n",
    "    TRKCOLUMNSLENGTH = 9\n",
    "    Col_imu_trunk = [f'trunk_{TYPEIDX[(i//(len(AXISIDX)))%len(TYPEIDX)]}_{AXISIDX[i%len(AXISIDX)]}' for i in range(0,TRKCOLUMNSLENGTH)]\n",
    "    # Columns for forceplate\n",
    "    FPCOLUMNSLENGTH = 12\n",
    "    FPTYPEIDX = ['GRF','ANGLE','MONM','MOBWHT']\n",
    "    Col_FP = [f'{FPTYPEIDX[(i//(len(AXISIDX)))%len(FPTYPEIDX)]}_{AXISIDX[i%len(AXISIDX)]}' for i in range(0,FPCOLUMNSLENGTH)]\n",
    "    # 최종 column\n",
    "    newColumns = COl_imu_legs+Col_imu_trunk+Col_FP\n",
    "    newColumnswithoutMAG = [col for col in newColumns if not 'MAG' in col] \n",
    "    return newColumnswithoutMAG\n",
    "\n",
    "def makeColumns_target():\n",
    "    SIDEIDX = ['target','nontarget']\n",
    "    PARTIDX = ['shank','shoe','thigh']\n",
    "    TYPEIDX = ['ACC','GYRO'] # 여기서는 MAG는 제낌\n",
    "    AXISIDX = ['X', 'Y', 'Z']\n",
    "    # 다리용\n",
    "    LEGCOLUMNSLENGTH = 36 # 이거는 양 다리 데이터 \n",
    "    COl_imu_legs = [f'{SIDEIDX[int(i//(LEGCOLUMNSLENGTH/2))]}\\\n",
    "_{PARTIDX[(i//(len(TYPEIDX)*len(AXISIDX)))%len(PARTIDX)]}\\\n",
    "_{TYPEIDX[(i//(len(AXISIDX)))%len(TYPEIDX)]}\\\n",
    "_{AXISIDX[i%len(AXISIDX)]}' for i in range(0,LEGCOLUMNSLENGTH)]\n",
    "    # 트렁크용\n",
    "    TRKCOLUMNSLENGTH = 6\n",
    "    Col_imu_trunk = [f'trunk_{TYPEIDX[(i//(len(AXISIDX)))%len(TYPEIDX)]}_{AXISIDX[i%len(AXISIDX)]}' for i in range(0,TRKCOLUMNSLENGTH)]\n",
    "    # 최종 column\n",
    "    newColumns = COl_imu_legs+Col_imu_trunk\n",
    "    return newColumns\n",
    "# subject로 분류한 것을 다시 전체 데이터 index 기준으로 변경하기\n",
    "# subject로 Kfold로 된것을 subject fold로 바꿔주는 함수\n",
    "\n",
    "def kfold2subfold(arrName,listData,train,test):\n",
    "    arrTrain = []\n",
    "    arrTest = []\n",
    "    for pID in arrName[train]:\n",
    "        idxofID = listData.index[listData['patientID']==pID].copy()\n",
    "        arrTrain.extend(idxofID.to_list())\n",
    "\n",
    "    for pID in arrName[test]:\n",
    "        idxofID = listData.index[listData['patientID']==pID].copy()\n",
    "        arrTest.extend(idxofID.to_list())\n",
    "    return arrTrain, arrTest"
   ]
  },
  {
   "cell_type": "code",
   "execution_count": 3,
   "metadata": {},
   "outputs": [],
   "source": [
    "# 필요한 함수 및 class 설정 \n",
    "def make_dir(file_path):\n",
    "    if not os.path.exists(file_path):\n",
    "        os.makedirs(file_path)"
   ]
  },
  {
   "cell_type": "markdown",
   "metadata": {},
   "source": [
    "### local 설정\n",
    "- 현재는 없음\n",
    "- 본 코드는 scc내에서만 구동됨"
   ]
  },
  {
   "cell_type": "markdown",
   "metadata": {},
   "source": [
    "### SCC 설정"
   ]
  },
  {
   "cell_type": "code",
   "execution_count": 4,
   "metadata": {},
   "outputs": [
    {
     "name": "stdout",
     "output_type": "stream",
     "text": [
      "항상 listfileName의 수와 dataList는 순서와 개수가 일치해야한다\n",
      "\n",
      "Num_listFromxlsx: 876 | Num_listFromFolder: 876\n",
      "Is same size: True\n"
     ]
    }
   ],
   "source": [
    "# 필요한 dir 설정\n",
    "dataDir =     r'.'\n",
    "normalizedDir = join(dataDir, r'NORM_CORRECTION')\n",
    "#######################################################\n",
    "# 설정창\n",
    "# 이번에는 time-normalized 한 data를 씀 무슨 데이터 길이든 101로 만든 것\n",
    "TargetDir = normalizedDir\n",
    "#######################################################\n",
    "# 파일목록 가져오기\n",
    "# 파일 목록 전체 들고오고 필요한 확장자만 고르고 들고온 파일 목록에서 .txt만 남기고 나머지 것들 제외시키기\n",
    "dataExt = r\".csv\"\n",
    "listFromFolder = natsorted([_ for _ in os.listdir(TargetDir) if _.endswith(dataExt)])\n",
    "# 파일 정리한 목록 불러오기\n",
    "listfileName  = r'list_dataset_correction.xlsx'\n",
    "listFromxlsx = pd.read_excel(join(dataDir,listfileName))\n",
    "#인원 추출하기\n",
    "arrName = listFromxlsx.patientID.unique()\n",
    "print(\"항상 listfileName의 수와 dataList는 순서와 개수가 일치해야한다\")\n",
    "print(f\"\\nNum_listFromxlsx: {len(listFromxlsx)} | Num_listFromFolder: {len(listFromFolder)}\")\n",
    "print(f'Is same size: {len(listFromxlsx)==len(listFromFolder)}')\n"
   ]
  },
  {
   "cell_type": "code",
   "execution_count": 5,
   "metadata": {},
   "outputs": [
    {
     "data": {
      "text/plain": [
       "(  patientID  dateVisit speed  numtrial    side  numStep\n",
       " 0      P002      31220     w         7  nonleg        1\n",
       " 1      P002      31220     w         7  nonleg        2\n",
       " 2      P002      31220     w         7   oaleg        1\n",
       " 3      P002      31220     w         8  nonleg        1\n",
       " 4      P002      31220     w         8   oaleg        1,\n",
       " ['N_F_P002_031220_w_0007_nonleg_imu_knee_angle_moment_R_1_Step.csv',\n",
       "  'N_F_P002_031220_w_0007_nonleg_imu_knee_angle_moment_R_2_Step.csv',\n",
       "  'N_F_P002_031220_w_0007_oaleg_imu_knee_angle_moment_R_1_Step.csv',\n",
       "  'N_F_P002_031220_w_0008_nonleg_imu_knee_angle_moment_R_1_Step.csv',\n",
       "  'N_F_P002_031220_w_0008_oaleg_imu_knee_angle_moment_R_1_Step.csv'])"
      ]
     },
     "execution_count": 5,
     "metadata": {},
     "output_type": "execute_result"
    }
   ],
   "source": [
    "listFromxlsx.head(), listFromFolder[:5]"
   ]
  },
  {
   "cell_type": "markdown",
   "metadata": {},
   "source": [
    "### Demographic 데이터 추출하기"
   ]
  },
  {
   "cell_type": "code",
   "execution_count": 6,
   "metadata": {},
   "outputs": [],
   "source": [
    "# Demographic 파일 주소 및 불러오기\n",
    "dgDir = r'.'\n",
    "dgName = r'demographics.xlsx'\n",
    "\n",
    "dg_Fromxlsx = pd.read_excel(join(dgDir,dgName))"
   ]
  },
  {
   "cell_type": "code",
   "execution_count": 7,
   "metadata": {},
   "outputs": [
    {
     "name": "stdout",
     "output_type": "stream",
     "text": [
      "Total subject:44\n",
      "Total Data size:876\n",
      "+=+=+=+=+=+=+=+=+=+=+=+=+=+=+=+=+=+=+=+=+=+=+=+=+=+=+=+=+=+=+\n",
      "Num. of fold: 0\n",
      "\n",
      "['P002' 'P007' 'P017' 'P029' 'P050' 'P061' 'P065' 'P066' 'P069' 'P105'\n",
      " 'P115' 'P119' 'P121' 'P135' 'P136' 'P147' 'P149' 'P168' 'P169' 'P172'\n",
      " 'P203' 'P222' 'P225' 'P226' 'P229' 'P243' 'P258' 'P263' 'P266' 'P270'\n",
      " 'P272' 'P273' 'P277' 'P290' 'P297']\n",
      "Num for train:35\n",
      "\n",
      "['P104' 'P106' 'P132' 'P134' 'P142' 'P155' 'P196' 'P205' 'P245']\n",
      "Num for test:9\n",
      "\n",
      "Num total:44\n",
      "\n",
      "0_fold\n",
      "idx4train:701 | idx4test:175 | total:876/876\n"
     ]
    },
    {
     "data": {
      "application/vnd.jupyter.widget-view+json": {
       "model_id": "dbca8054f0e940a2999c973c05cd89ea",
       "version_major": 2,
       "version_minor": 0
      },
      "text/plain": [
       "  0%|          | 0/701 [00:00<?, ?it/s]"
      ]
     },
     "metadata": {},
     "output_type": "display_data"
    },
    {
     "name": "stdout",
     "output_type": "stream",
     "text": [
      "TRAIN data  :  701\n",
      "Final shape: X:(701, 101, 42), Y_angle:(701, 101, 3), Y_moBWHT:(701, 101, 3)\n",
      "Demographic shape: (701, 3)\n"
     ]
    },
    {
     "data": {
      "application/vnd.jupyter.widget-view+json": {
       "model_id": "b36df9152e9b4ad2a7100355a1671e4b",
       "version_major": 2,
       "version_minor": 0
      },
      "text/plain": [
       "  0%|          | 0/175 [00:00<?, ?it/s]"
      ]
     },
     "metadata": {},
     "output_type": "display_data"
    },
    {
     "name": "stdout",
     "output_type": "stream",
     "text": [
      "test data  :  175\n",
      "Final shape: X:(175, 101, 42), Y_angle:(175, 101, 3), Y_moBWHT:(175, 101, 3)\n",
      "Demographic shape: (175, 3)\n",
      "+=+=+=+=+=+=+=+=+=+=+=+=+=+=+=+=+=+=+=+=+=+=+=+=+=+=+=+=+=+=+\n",
      "Num. of fold: 1\n",
      "\n",
      "['P007' 'P050' 'P061' 'P065' 'P066' 'P104' 'P105' 'P106' 'P119' 'P121'\n",
      " 'P132' 'P134' 'P136' 'P142' 'P147' 'P155' 'P168' 'P169' 'P172' 'P196'\n",
      " 'P203' 'P205' 'P222' 'P225' 'P226' 'P229' 'P243' 'P245' 'P258' 'P263'\n",
      " 'P270' 'P272' 'P273' 'P277' 'P290']\n",
      "Num for train:35\n",
      "\n",
      "['P002' 'P017' 'P029' 'P069' 'P115' 'P135' 'P149' 'P266' 'P297']\n",
      "Num for test:9\n",
      "\n",
      "Num total:44\n",
      "\n",
      "1_fold\n",
      "idx4train:677 | idx4test:199 | total:876/876\n"
     ]
    },
    {
     "data": {
      "application/vnd.jupyter.widget-view+json": {
       "model_id": "5896ad43790e411ba2d7674991a6e7b5",
       "version_major": 2,
       "version_minor": 0
      },
      "text/plain": [
       "  0%|          | 0/677 [00:00<?, ?it/s]"
      ]
     },
     "metadata": {},
     "output_type": "display_data"
    },
    {
     "name": "stdout",
     "output_type": "stream",
     "text": [
      "TRAIN data  :  677\n",
      "Final shape: X:(677, 101, 42), Y_angle:(677, 101, 3), Y_moBWHT:(677, 101, 3)\n",
      "Demographic shape: (677, 3)\n"
     ]
    },
    {
     "data": {
      "application/vnd.jupyter.widget-view+json": {
       "model_id": "f330ce7910bb428a974485ac5a3fa71a",
       "version_major": 2,
       "version_minor": 0
      },
      "text/plain": [
       "  0%|          | 0/199 [00:00<?, ?it/s]"
      ]
     },
     "metadata": {},
     "output_type": "display_data"
    },
    {
     "name": "stdout",
     "output_type": "stream",
     "text": [
      "test data  :  199\n",
      "Final shape: X:(199, 101, 42), Y_angle:(199, 101, 3), Y_moBWHT:(199, 101, 3)\n",
      "Demographic shape: (199, 3)\n",
      "+=+=+=+=+=+=+=+=+=+=+=+=+=+=+=+=+=+=+=+=+=+=+=+=+=+=+=+=+=+=+\n",
      "Num. of fold: 2\n",
      "\n",
      "['P002' 'P007' 'P017' 'P029' 'P061' 'P066' 'P069' 'P104' 'P106' 'P115'\n",
      " 'P119' 'P121' 'P132' 'P134' 'P135' 'P136' 'P142' 'P147' 'P149' 'P155'\n",
      " 'P168' 'P169' 'P172' 'P196' 'P203' 'P205' 'P222' 'P229' 'P245' 'P263'\n",
      " 'P266' 'P270' 'P272' 'P273' 'P297']\n",
      "Num for train:35\n",
      "\n",
      "['P050' 'P065' 'P105' 'P225' 'P226' 'P243' 'P258' 'P277' 'P290']\n",
      "Num for test:9\n",
      "\n",
      "Num total:44\n",
      "\n",
      "2_fold\n",
      "idx4train:687 | idx4test:189 | total:876/876\n"
     ]
    },
    {
     "data": {
      "application/vnd.jupyter.widget-view+json": {
       "model_id": "acd3a9ca795243abb654785c25ddaf03",
       "version_major": 2,
       "version_minor": 0
      },
      "text/plain": [
       "  0%|          | 0/687 [00:00<?, ?it/s]"
      ]
     },
     "metadata": {},
     "output_type": "display_data"
    },
    {
     "name": "stdout",
     "output_type": "stream",
     "text": [
      "TRAIN data  :  687\n",
      "Final shape: X:(687, 101, 42), Y_angle:(687, 101, 3), Y_moBWHT:(687, 101, 3)\n",
      "Demographic shape: (687, 3)\n"
     ]
    },
    {
     "data": {
      "application/vnd.jupyter.widget-view+json": {
       "model_id": "1988e92139d24ffbac5c13817c70d406",
       "version_major": 2,
       "version_minor": 0
      },
      "text/plain": [
       "  0%|          | 0/189 [00:00<?, ?it/s]"
      ]
     },
     "metadata": {},
     "output_type": "display_data"
    },
    {
     "name": "stdout",
     "output_type": "stream",
     "text": [
      "test data  :  189\n",
      "Final shape: X:(189, 101, 42), Y_angle:(189, 101, 3), Y_moBWHT:(189, 101, 3)\n",
      "Demographic shape: (189, 3)\n",
      "+=+=+=+=+=+=+=+=+=+=+=+=+=+=+=+=+=+=+=+=+=+=+=+=+=+=+=+=+=+=+\n",
      "Num. of fold: 3\n",
      "\n",
      "['P002' 'P017' 'P029' 'P050' 'P065' 'P066' 'P069' 'P104' 'P105' 'P106'\n",
      " 'P115' 'P132' 'P134' 'P135' 'P136' 'P142' 'P149' 'P155' 'P168' 'P169'\n",
      " 'P172' 'P196' 'P205' 'P222' 'P225' 'P226' 'P243' 'P245' 'P258' 'P266'\n",
      " 'P270' 'P272' 'P277' 'P290' 'P297']\n",
      "Num for train:35\n",
      "\n",
      "['P007' 'P061' 'P119' 'P121' 'P147' 'P203' 'P229' 'P263' 'P273']\n",
      "Num for test:9\n",
      "\n",
      "Num total:44\n",
      "\n",
      "3_fold\n",
      "idx4train:694 | idx4test:182 | total:876/876\n"
     ]
    },
    {
     "data": {
      "application/vnd.jupyter.widget-view+json": {
       "model_id": "3b7e55e231374c0cb381407e8bf1e7e4",
       "version_major": 2,
       "version_minor": 0
      },
      "text/plain": [
       "  0%|          | 0/694 [00:00<?, ?it/s]"
      ]
     },
     "metadata": {},
     "output_type": "display_data"
    },
    {
     "name": "stdout",
     "output_type": "stream",
     "text": [
      "TRAIN data  :  694\n",
      "Final shape: X:(694, 101, 42), Y_angle:(694, 101, 3), Y_moBWHT:(694, 101, 3)\n",
      "Demographic shape: (694, 3)\n"
     ]
    },
    {
     "data": {
      "application/vnd.jupyter.widget-view+json": {
       "model_id": "2202c18eb7cc4f3092444b4b1ea5f8b6",
       "version_major": 2,
       "version_minor": 0
      },
      "text/plain": [
       "  0%|          | 0/182 [00:00<?, ?it/s]"
      ]
     },
     "metadata": {},
     "output_type": "display_data"
    },
    {
     "name": "stdout",
     "output_type": "stream",
     "text": [
      "test data  :  182\n",
      "Final shape: X:(182, 101, 42), Y_angle:(182, 101, 3), Y_moBWHT:(182, 101, 3)\n",
      "Demographic shape: (182, 3)\n",
      "+=+=+=+=+=+=+=+=+=+=+=+=+=+=+=+=+=+=+=+=+=+=+=+=+=+=+=+=+=+=+\n",
      "Num. of fold: 4\n",
      "\n",
      "['P002' 'P007' 'P017' 'P029' 'P050' 'P061' 'P065' 'P069' 'P104' 'P105'\n",
      " 'P106' 'P115' 'P119' 'P121' 'P132' 'P134' 'P135' 'P142' 'P147' 'P149'\n",
      " 'P155' 'P196' 'P203' 'P205' 'P225' 'P226' 'P229' 'P243' 'P245' 'P258'\n",
      " 'P263' 'P266' 'P273' 'P277' 'P290' 'P297']\n",
      "Num for train:36\n",
      "\n",
      "['P066' 'P136' 'P168' 'P169' 'P172' 'P222' 'P270' 'P272']\n",
      "Num for test:8\n",
      "\n",
      "Num total:44\n",
      "\n",
      "4_fold\n",
      "idx4train:745 | idx4test:131 | total:876/876\n"
     ]
    },
    {
     "data": {
      "application/vnd.jupyter.widget-view+json": {
       "model_id": "15a683dfffe141218acdb1554d132d22",
       "version_major": 2,
       "version_minor": 0
      },
      "text/plain": [
       "  0%|          | 0/745 [00:00<?, ?it/s]"
      ]
     },
     "metadata": {},
     "output_type": "display_data"
    },
    {
     "name": "stdout",
     "output_type": "stream",
     "text": [
      "TRAIN data  :  745\n",
      "Final shape: X:(745, 101, 42), Y_angle:(745, 101, 3), Y_moBWHT:(745, 101, 3)\n",
      "Demographic shape: (745, 3)\n"
     ]
    },
    {
     "data": {
      "application/vnd.jupyter.widget-view+json": {
       "model_id": "a6bd398a3a98426bb96251b1a32116d8",
       "version_major": 2,
       "version_minor": 0
      },
      "text/plain": [
       "  0%|          | 0/131 [00:00<?, ?it/s]"
      ]
     },
     "metadata": {},
     "output_type": "display_data"
    },
    {
     "name": "stdout",
     "output_type": "stream",
     "text": [
      "test data  :  131\n",
      "Final shape: X:(131, 101, 42), Y_angle:(131, 101, 3), Y_moBWHT:(131, 101, 3)\n",
      "Demographic shape: (131, 3)\n"
     ]
    }
   ],
   "source": [
    "# 개발용\n",
    "# KFOLD 선언\n",
    "kfold = KFold(n_splits=5, random_state=seed_rand, shuffle=True)\n",
    "# 항상 피험자 명단을 kfold.split(여기)에 넣어야 됨\n",
    "countfold = -1\n",
    "print(f\"Total subject:{len(arrName)}\")\n",
    "print(f\"Total Data size:{len(listFromxlsx)}\")\n",
    "\n",
    "for train,test in kfold.split(arrName):\n",
    "    # 해당 fold numbering\n",
    "    countfold = countfold + 1\n",
    "    # 데이터 셋 만들기\n",
    "    # 이번 학습에 사용되는 피험자 명단\n",
    "    print(\"+=+=+=+=+=+=+=+=+=+=+=+=+=+=+=+=+=+=+=+=+=+=+=+=+=+=+=+=+=+=+\")\n",
    "    print(f\"Num. of fold: {countfold}\\n\")\n",
    "    print(f'{arrName[train]}\\nNum for train:{len(arrName[train])}\\n')\n",
    "    print(f'{arrName[test]}\\nNum for test:{len(arrName[test])}\\n')\n",
    "    print(f'Num total:{len(arrName[train])+len(arrName[test])}')\n",
    "\n",
    "    idx4train,idx4test = kfold2subfold(arrName,listFromxlsx,train,test)\n",
    "    print(f\"\\n{countfold}_fold\\nidx4train:{len(idx4train)} | idx4test:{len(idx4test)} | total:{len(idx4train)+len(idx4test)}/{len(listFromxlsx)}\")\n",
    "    # 전체 목록을 한번에 만들고 필요할 때마다 쓰도록 세팅\n",
    "    # 전체 데이터를 담고, 이걸 피험자 별로 추출할 수 있도록 만들기\n",
    "    columnsWOMAG = makeColumnsWOMAG()\n",
    "    X_columns = makeColumns_target()\n",
    "    df_trainData_X = pd.DataFrame(columns=X_columns)\n",
    "\n",
    "    Y_columns = ['X','Y','Z']\n",
    "    df_trainData_Y_angle = pd.DataFrame(columns=Y_columns) # angle은 3축\n",
    "    df_trainData_Y_moBWHT = pd.DataFrame(columns=Y_columns) # moment도 3축\n",
    "    \n",
    "    # Demographic 정보 넣기\n",
    "    # fold별 Demographic arr 초기화\n",
    "    arr_dg_train = []\n",
    "    # Train 데이터에 해당하는 것만 담기!\n",
    "    # 아래와 동일하게 valid와 test 셋도 만들 수 있음!\n",
    "    for idx, datum in enumerate(tqdm([listFromFolder[i] for i in idx4train])):\n",
    "        df = pd.read_csv(join(TargetDir,datum))\n",
    "        # 데이터에서 일단 MAG 모두 제외하기\n",
    "        dfWOMAG = df.loc[:,columnsWOMAG]\n",
    "        # 측정된 moment 다리가 nonleg이면 그대로 file 두기\n",
    "        if listFromxlsx.loc[idx,'side'] == \"oaleg\":\n",
    "            targetLegArr = dfWOMAG.loc[:,'oa_shank_ACC_X':'oa_thigh_GYRO_Z']\n",
    "            nonTargetLegArr = dfWOMAG.loc[:,'non_shank_ACC_X':'non_thigh_GYRO_Z'] # mag 빼기\n",
    "            otherArr = dfWOMAG.loc[:,'trunk_ACC_X':'trunk_GYRO_Z'] \n",
    "        else:\n",
    "            targetLegArr = dfWOMAG.loc[:,'non_shank_ACC_X':'non_thigh_GYRO_Z'] # mag 빼기\n",
    "            nonTargetLegArr = dfWOMAG.loc[:,'oa_shank_ACC_X':'oa_thigh_GYRO_Z'] # mag 빼기\n",
    "            otherArr = dfWOMAG.loc[:,'trunk_ACC_X':'trunk_GYRO_Z']\n",
    "        # 데이터를 항상 동일한 순서로 만들기\n",
    "        concated = pd.concat([targetLegArr, nonTargetLegArr, otherArr],axis=1)\n",
    "        # rename하기\n",
    "        # 쌓아야 하니까..\n",
    "        # X_columns 순서는 (shank[acc, gyro], shoe[acc, gyro], thigh[acc, gyro]), (shank[acc, gyro], shoe[acc, gyro], thigh[acc, gyro]), trunk[acc, gyro]\n",
    "        concated.columns = X_columns\n",
    "        # input data 누적\n",
    "        df_trainData_X = pd.concat([df_trainData_X, concated],axis=0,ignore_index=True)\n",
    "        ##############################################################\n",
    "        # output data 만들기\n",
    "        # kinematic(Angle)\n",
    "        angle = dfWOMAG.loc[:,'ANGLE_X':'ANGLE_Z']\n",
    "        angle.columns = Y_columns\n",
    "        # output data 누적\n",
    "        df_trainData_Y_angle = pd.concat([df_trainData_Y_angle, angle],axis=0,ignore_index=True)\n",
    "        # kinetic(moment)\n",
    "        moBWHT = dfWOMAG.loc[:,'MOBWHT_X':'MOBWHT_Z']\n",
    "        moBWHT.columns = Y_columns\n",
    "        # output data 누적\n",
    "        df_trainData_Y_moBWHT = pd.concat([df_trainData_Y_moBWHT, moBWHT],axis=0,ignore_index=True)\n",
    "        \n",
    "        # demographic 넣기\n",
    "        patientID = datum.split('_')[2]\n",
    "        dg_infos = dg_Fromxlsx.loc[dg_Fromxlsx['ID']==patientID][['age','height','weight_bl']].reset_index(drop=True)\n",
    "        dg_list = list(dg_infos.loc[0])\n",
    "        arr_dg_train.append(dg_list)\n",
    "\n",
    "    # scaler 적용하기\n",
    "    scaler4X = MinMaxScaler()\n",
    "    scaler4X.fit(df_trainData_X)\n",
    "    scaled_X_train = scaler4X.transform(df_trainData_X)\n",
    "\n",
    "    # angle용\n",
    "    scaler4Y_angle = MinMaxScaler()\n",
    "    narr_trainData_Y_angle = np.array(df_trainData_Y_angle)\n",
    "    scaler4Y_angle.fit(narr_trainData_Y_angle) # ONLY FOR TRAIN DATA!!!!ONLY FOR TRAIN DATA!!!!\n",
    "    scaled_Y_angle_train = scaler4Y_angle.transform(narr_trainData_Y_angle)\n",
    "    # moBWHT 용\n",
    "    scaler4Y_moBWHT = MinMaxScaler()\n",
    "    narr_trainData_Y_moBWHT = np.array(df_trainData_Y_moBWHT)\n",
    "    scaler4Y_moBWHT.fit(narr_trainData_Y_moBWHT) # ONLY FOR TRAIN DATA!!!!ONLY FOR TRAIN DATA!!!!\n",
    "    scaled_Y_moBWHT_train = scaler4Y_moBWHT.transform(narr_trainData_Y_moBWHT)\n",
    "\n",
    "    # Demographic 용\n",
    "    scaler4Demographic = StandardScaler() # demographic은 정규scaler를 사용할 것\n",
    "    narr_dg_train = np.array(arr_dg_train)\n",
    "    scaler4Demographic.fit(narr_dg_train) # ONLY FOR TRAIN DATA!!!!ONLY FOR TRAIN DATA!!!!\n",
    "    scaled_DG_train = scaler4Demographic.transform(narr_dg_train)\n",
    "\n",
    "    # scaler 저장 위치\n",
    "    scalerDir = join(dataDir, r'SAVE_dataSet',nameDataset)\n",
    "    make_dir(scalerDir)\n",
    "    # scaler 저장\n",
    "    dump(scaler4X, open(join(scalerDir,f\"{countfold}_fold_scaler4X.pkl\"), 'wb'))\n",
    "    dump(scaler4Y_angle, open(join(scalerDir,f'{countfold}_fold_scaler4Y_angle.pkl'), 'wb'))\n",
    "    dump(scaler4Y_moBWHT, open(join(scalerDir,f'{countfold}_fold_scaler4Y_moBWHT.pkl'), 'wb'))\n",
    "    dump(scaler4Demographic, open(join(scalerDir,f'{countfold}_fold_scaler4Demographic.pkl'), 'wb'))\n",
    "        # 이제 제대로 scaling 했으니까 원상복구 하자!\n",
    "    # 원하는 shape 형태 \n",
    "    # (N, 4242, 1), (N, 303, 1), (N, 303, 1)   N 은 데이터 수\n",
    "    X_train = []\n",
    "    Y_angle_train = []\n",
    "    Y_moBWHT_train = []\n",
    "    dg_train = []\n",
    "    for i in range(0,len(idx4train)):\n",
    "        chopped_X_train = scaled_X_train[i*101:101+i*101,:]\n",
    "        X_train.append(chopped_X_train)\n",
    "        \n",
    "        chopped_Y_angle_train= scaled_Y_angle_train[i*101:101+i*101,:]\n",
    "        Y_angle_train.append(chopped_Y_angle_train)\n",
    "\n",
    "        chopped_Y_moBWHT_train= scaled_Y_moBWHT_train[i*101:101+i*101,:]\n",
    "        Y_moBWHT_train.append(chopped_Y_moBWHT_train)        \n",
    "\n",
    "    final_X_train = np.array(X_train)\n",
    "    final_Y_angle_train = np.array(Y_angle_train)\n",
    "    final_Y_moBWHT_train = np.array(Y_moBWHT_train)\n",
    "    final_DG_train = scaled_DG_train\n",
    "    # 만들어진 데이터 shape 확인! \n",
    "    print(f'TRAIN data  :  {len(idx4train)}')\n",
    "    print(f'Final shape: X:{final_X_train.shape}, Y_angle:{final_Y_angle_train.shape}, Y_moBWHT:{final_Y_moBWHT_train.shape}')\n",
    "    print(f'Demographic shape: {final_DG_train.shape}')\n",
    "    # 데이터 저장 위치\n",
    "    setDir = join(dataDir, r'SAVE_dataSet',nameDataset)\n",
    "    make_dir(setDir)\n",
    "    # 데이터 저장\n",
    "    savez_compressed(join(setDir,f\"{countfold}_fold_final_train.npz\"), \n",
    "    final_X_train=final_X_train,\n",
    "    final_Y_angle_train=final_Y_angle_train,\n",
    "    final_Y_moBWHT_train=final_Y_moBWHT_train,\n",
    "    final_DG_train=final_DG_train)\n",
    "    #############################################################################################################################################\n",
    "    # test set 용\n",
    "    # 전체 목록을 한번에 만들고 필요할 때마다 쓰도록 세팅\n",
    "    # 전체 데이터를 담고, 이걸 피험자 별로 추출할 수 있도록 만들기\n",
    "    columnsWOMAG = makeColumnsWOMAG()\n",
    "    X_columns = makeColumns_target()\n",
    "    df_testData_X = pd.DataFrame(columns=X_columns)\n",
    "\n",
    "    Y_columns = ['X','Y','Z']\n",
    "    df_testData_Y_angle = pd.DataFrame(columns=Y_columns) # angle은 3축\n",
    "    df_testData_Y_moBWHT = pd.DataFrame(columns=Y_columns) # moment도 3축\n",
    "\n",
    "    # Demographic 정보 넣기\n",
    "    # fold별 Demographic arr 초기화\n",
    "    arr_dg_test = []\n",
    "    # test 데이터에 해당하는 것만 담기!\n",
    "    # 아래와 동일하게 valid와 test 셋도 만들 수 있음!\n",
    "    for idx, datum in enumerate(tqdm([listFromFolder[i] for i in idx4test])):\n",
    "        df = pd.read_csv(join(TargetDir,datum))\n",
    "        # 데이터에서 일단 MAG 모두 제외하기\n",
    "        dfWOMAG = df.loc[:,columnsWOMAG]\n",
    "        # 측정된 moment 다리가 nonleg이면 그대로 file 두기\n",
    "        if listFromxlsx.loc[idx,'side'] == \"oaleg\":\n",
    "            targetLegArr = dfWOMAG.loc[:,'oa_shank_ACC_X':'oa_thigh_GYRO_Z']\n",
    "            nonTargetLegArr = dfWOMAG.loc[:,'non_shank_ACC_X':'non_thigh_GYRO_Z'] # mag 빼기\n",
    "            otherArr = dfWOMAG.loc[:,'trunk_ACC_X':'trunk_GYRO_Z'] \n",
    "        else:\n",
    "            targetLegArr = dfWOMAG.loc[:,'non_shank_ACC_X':'non_thigh_GYRO_Z'] # mag 빼기\n",
    "            nonTargetLegArr = dfWOMAG.loc[:,'oa_shank_ACC_X':'oa_thigh_GYRO_Z'] # mag 빼기\n",
    "            otherArr = dfWOMAG.loc[:,'trunk_ACC_X':'trunk_GYRO_Z']\n",
    "        # 데이터를 항상 동일한 순서로 만들기\n",
    "        concated = pd.concat([targetLegArr, nonTargetLegArr, otherArr],axis=1)\n",
    "        # rename하기\n",
    "        # 쌓아야 하니까..\n",
    "        # X_columns 순서는 (shank[acc, gyro], shoe[acc, gyro], thigh[acc, gyro]), (shank[acc, gyro], shoe[acc, gyro], thigh[acc, gyro]), trunk[acc, gyro]\n",
    "        concated.columns = X_columns\n",
    "        # input data 누적\n",
    "        df_testData_X = pd.concat([df_testData_X, concated],axis=0,ignore_index=True)\n",
    "        ##############################################################\n",
    "        # output data 만들기\n",
    "        # kinematic(Angle)\n",
    "        angle = dfWOMAG.loc[:,'ANGLE_X':'ANGLE_Z']\n",
    "        angle.columns = Y_columns\n",
    "        # output data 누적\n",
    "        df_testData_Y_angle = pd.concat([df_testData_Y_angle, angle],axis=0,ignore_index=True)\n",
    "        # kinetic(moment)\n",
    "        moBWHT = dfWOMAG.loc[:,'MOBWHT_X':'MOBWHT_Z']\n",
    "        moBWHT.columns = Y_columns\n",
    "        # output data 누적\n",
    "        df_testData_Y_moBWHT = pd.concat([df_testData_Y_moBWHT, moBWHT],axis=0,ignore_index=True)\n",
    "\n",
    "        # demographic 넣기\n",
    "        patientID = datum.split('_')[2]\n",
    "        dg_infos = dg_Fromxlsx.loc[dg_Fromxlsx['ID']==patientID][['age','height','weight_bl']].reset_index(drop=True)\n",
    "        dg_list = list(dg_infos.loc[0])\n",
    "        arr_dg_test.append(dg_list)\n",
    "\n",
    "    # scaler 적용하기\n",
    "    scaled_X_test = scaler4X.transform(df_testData_X)\n",
    "\n",
    "    narr_testData_Y_angle = np.array(df_testData_Y_angle)\n",
    "    scaled_Y_angle_test = scaler4Y_angle.transform(narr_testData_Y_angle)\n",
    "\n",
    "    narr_testData_Y_moBWHT = np.array(df_testData_Y_moBWHT)\n",
    "    scaled_Y_moBWHT_test = scaler4Y_moBWHT.transform(narr_testData_Y_moBWHT)\n",
    "\n",
    "    narr_dg_test = np.array(arr_dg_test)\n",
    "    scaled_DG_test = scaler4Demographic.transform(narr_dg_test)\n",
    "\n",
    "    # 이제 제대로 scaling 했으니까 원상복구 하자!\n",
    "    # 원하는 shape 형태 \n",
    "    # (N, 4242, 1), (N, 303, 1), (N, 303, 1)   N 은 데이터 수\n",
    "    X_test = []\n",
    "    Y_angle_test = []\n",
    "    Y_moBWHT_test = []\n",
    "    for i in range(0,len(idx4test)):\n",
    "        chopped_X_test = scaled_X_test[i*101:101+i*101,:]\n",
    "        X_test.append(chopped_X_test)\n",
    "        \n",
    "        chopped_Y_angle_test= scaled_Y_angle_test[i*101:101+i*101,:]\n",
    "        Y_angle_test.append(chopped_Y_angle_test)\n",
    "\n",
    "        chopped_Y_moBWHT_test= scaled_Y_moBWHT_test[i*101:101+i*101,:]\n",
    "        Y_moBWHT_test.append(chopped_Y_moBWHT_test)\n",
    "\n",
    "    final_X_test = np.array(X_test)\n",
    "    final_Y_angle_test = np.array(Y_angle_test)\n",
    "    final_Y_moBWHT_test = np.array(Y_moBWHT_test)\n",
    "    final_DG_test = scaled_DG_test\n",
    "    # 만들어진 데이터 shape 확인! \n",
    "    print(f'test data  :  {len(idx4test)}')\n",
    "    print(f'Final shape: X:{final_X_test.shape}, Y_angle:{final_Y_angle_test.shape}, Y_moBWHT:{final_Y_moBWHT_test.shape}')\n",
    "    print(f'Demographic shape: {final_DG_test.shape}')\n",
    "    # 데이터 저장 위치\n",
    "    setDir = join(dataDir, r'SAVE_dataSet',nameDataset)\n",
    "    make_dir(setDir)\n",
    "    # 데이터 저장\n",
    "    savez_compressed(join(setDir,f\"{countfold}_fold_final_test.npz\"), \n",
    "    final_X_test=final_X_test,\n",
    "    final_Y_angle_test=final_Y_angle_test,\n",
    "    final_Y_moBWHT_test=final_Y_moBWHT_test,\n",
    "    final_DG_test=final_DG_test)"
   ]
  },
  {
   "cell_type": "code",
   "execution_count": 20,
   "metadata": {},
   "outputs": [
    {
     "data": {
      "text/plain": [
       "42"
      ]
     },
     "execution_count": 20,
     "metadata": {},
     "output_type": "execute_result"
    }
   ],
   "source": [
    "len(scaler4X.min_)"
   ]
  },
  {
   "cell_type": "markdown",
   "metadata": {},
   "source": [
    "# 새로 배운 것"
   ]
  },
  {
   "cell_type": "code",
   "execution_count": 9,
   "metadata": {},
   "outputs": [
    {
     "data": {
      "text/plain": [
       "array([[-2.41567832e+00, -2.10234841e-02, -9.25387317e-02],\n",
       "       [-2.51075271e+00, -7.23300439e-02, -9.97491628e-02],\n",
       "       [-2.73093486e+00, -1.25147835e-01, -1.08115894e-01],\n",
       "       [-3.00607260e+00, -1.60816150e-01, -1.15027882e-01],\n",
       "       [-3.22541115e+00, -1.74435763e-01, -1.17654086e-01],\n",
       "       [-3.28680206e+00, -1.69955687e-01, -1.13794444e-01],\n",
       "       [-3.16697862e+00, -1.67686141e-01, -1.03404123e-01],\n",
       "       [-2.91149806e+00, -1.91591927e-01, -8.92064787e-02],\n",
       "       [-2.58951564e+00, -2.67537857e-01, -7.41286807e-02],\n",
       "       [-2.23772789e+00, -4.19574688e-01, -5.83174052e-02],\n",
       "       [-1.86470372e+00, -6.52384292e-01, -3.96422824e-02],\n",
       "       [-1.46291752e+00, -9.58473331e-01, -1.35135931e-02],\n",
       "       [-1.04444354e+00, -1.31586574e+00,  2.30539194e-02],\n",
       "       [-6.12435634e-01, -1.70745894e+00,  7.25045427e-02],\n",
       "       [-1.78486231e-01, -2.11612233e+00,  1.33218901e-01],\n",
       "       [ 2.43189310e-01, -2.54305152e+00,  2.02129582e-01],\n",
       "       [ 6.51489640e-01, -3.00614817e+00,  2.78179371e-01],\n",
       "       [ 1.03613951e+00, -3.50221818e+00,  3.60514176e-01],\n",
       "       [ 1.39817175e+00, -4.01738952e+00,  4.49513165e-01],\n",
       "       [ 1.71785861e+00, -4.51995052e+00,  5.42957931e-01],\n",
       "       [ 1.98580036e+00, -4.98688640e+00,  6.38041981e-01],\n",
       "       [ 2.19503581e+00, -5.39809503e+00,  7.30293543e-01],\n",
       "       [ 2.34559252e+00, -5.73495340e+00,  8.14404543e-01],\n",
       "       [ 2.44815004e+00, -5.99144733e+00,  8.85938382e-01],\n",
       "       [ 2.51298437e+00, -6.16228202e+00,  9.39988884e-01],\n",
       "       [ 2.55276499e+00, -6.25738011e+00,  9.74444264e-01],\n",
       "       [ 2.56939446e+00, -6.28789896e+00,  9.89077669e-01],\n",
       "       [ 2.56539144e+00, -6.27028867e+00,  9.85852698e-01],\n",
       "       [ 2.53456367e+00, -6.22308875e+00,  9.68548804e-01],\n",
       "       [ 2.47994756e+00, -6.15933764e+00,  9.40235111e-01],\n",
       "       [ 2.39764474e+00, -6.09039004e+00,  9.03646951e-01],\n",
       "       [ 2.29309664e+00, -6.02075340e+00,  8.60412636e-01],\n",
       "       [ 2.17041136e+00, -5.95360437e+00,  8.11964386e-01],\n",
       "       [ 2.03681835e+00, -5.89141161e+00,  7.60151426e-01],\n",
       "       [ 1.89647677e+00, -5.82939700e+00,  7.05187382e-01],\n",
       "       [ 1.75205165e+00, -5.76472587e+00,  6.47658429e-01],\n",
       "       [ 1.60339524e+00, -5.69019286e+00,  5.88060219e-01],\n",
       "       [ 1.44987023e+00, -5.60428113e+00,  5.27117048e-01],\n",
       "       [ 1.29263016e+00, -5.50852944e+00,  4.66889039e-01],\n",
       "       [ 1.13176923e+00, -5.40569621e+00,  4.07657695e-01],\n",
       "       [ 9.72966004e-01, -5.30174621e+00,  3.50653268e-01],\n",
       "       [ 8.16458165e-01, -5.19631980e+00,  2.95833070e-01],\n",
       "       [ 6.66810293e-01, -5.09301474e+00,  2.43445737e-01],\n",
       "       [ 5.24764357e-01, -4.99083231e+00,  1.93763849e-01],\n",
       "       [ 3.87561591e-01, -4.88762775e+00,  1.46285632e-01],\n",
       "       [ 2.59521349e-01, -4.78085435e+00,  1.01021639e-01],\n",
       "       [ 1.40442006e-01, -4.66536136e+00,  5.65886185e-02],\n",
       "       [ 3.20395632e-02, -4.54106787e+00,  1.29786150e-02],\n",
       "       [-6.61047249e-02, -4.40558739e+00, -3.01541256e-02],\n",
       "       [-1.53113948e-01, -4.26305851e+00, -7.24259437e-02],\n",
       "       [-2.28341417e-01, -4.11571736e+00, -1.12961252e-01],\n",
       "       [-2.91575210e-01, -3.96554801e+00, -1.51284051e-01],\n",
       "       [-3.41044168e-01, -3.81794769e+00, -1.85821891e-01],\n",
       "       [-3.80152067e-01, -3.67434450e+00, -2.15932287e-01],\n",
       "       [-4.06443236e-01, -3.54035968e+00, -2.41050418e-01],\n",
       "       [-4.22369948e-01, -3.41700605e+00, -2.61196674e-01],\n",
       "       [-4.29477457e-01, -3.30806227e+00, -2.76960801e-01],\n",
       "       [-4.26141471e-01, -3.21369220e+00, -2.88582936e-01],\n",
       "       [-4.10698383e-01, -3.13181500e+00, -2.96646894e-01],\n",
       "       [-3.86909711e-01, -3.06332451e+00, -3.01114999e-01],\n",
       "       [-3.58133354e-01, -3.00500434e+00, -3.02522354e-01],\n",
       "       [-3.26166284e-01, -2.95749618e+00, -3.01549768e-01],\n",
       "       [-2.90428153e-01, -2.91800854e+00, -2.99099436e-01],\n",
       "       [-2.50196432e-01, -2.88627357e+00, -2.96158031e-01],\n",
       "       [-2.09577363e-01, -2.86079911e+00, -2.93012067e-01],\n",
       "       [-1.67738526e-01, -2.84068217e+00, -2.89805461e-01],\n",
       "       [-1.25828360e-01, -2.82635130e+00, -2.86579560e-01],\n",
       "       [-8.37446598e-02, -2.81579594e+00, -2.83058585e-01],\n",
       "       [-3.92623692e-02, -2.80963517e+00, -2.79276795e-01],\n",
       "       [ 5.53401119e-03, -2.80560110e+00, -2.75116651e-01],\n",
       "       [ 5.26473505e-02, -2.80371736e+00, -2.70789985e-01],\n",
       "       [ 9.95283720e-02, -2.80172299e+00, -2.66302588e-01],\n",
       "       [ 1.52066717e-01, -2.79815351e+00, -2.61276851e-01],\n",
       "       [ 2.11647139e-01, -2.79298068e+00, -2.55507830e-01],\n",
       "       [ 2.82382050e-01, -2.78406762e+00, -2.48167405e-01],\n",
       "       [ 3.67980944e-01, -2.77131223e+00, -2.38569135e-01],\n",
       "       [ 4.66442761e-01, -2.75274804e+00, -2.25907393e-01],\n",
       "       [ 5.80265717e-01, -2.72783689e+00, -2.09254501e-01],\n",
       "       [ 7.03626188e-01, -2.69447787e+00, -1.88386368e-01],\n",
       "       [ 8.35742879e-01, -2.64903413e+00, -1.63223041e-01],\n",
       "       [ 9.70324458e-01, -2.59111483e+00, -1.34539396e-01],\n",
       "       [ 1.10576939e+00, -2.51751776e+00, -1.03137858e-01],\n",
       "       [ 1.23464238e+00, -2.42820947e+00, -7.03942604e-02],\n",
       "       [ 1.35525642e+00, -2.32078577e+00, -3.80645874e-02],\n",
       "       [ 1.46807104e+00, -2.19262277e+00, -7.32431332e-03],\n",
       "       [ 1.56855366e+00, -2.04549001e+00,  2.05308155e-02],\n",
       "       [ 1.65397582e+00, -1.88054239e+00,  4.50562108e-02],\n",
       "       [ 1.71511053e+00, -1.70538675e+00,  6.58734592e-02],\n",
       "       [ 1.75019740e+00, -1.52154586e+00,  8.23117091e-02],\n",
       "       [ 1.75979759e+00, -1.33179259e+00,  9.31145471e-02],\n",
       "       [ 1.74561213e+00, -1.13880462e+00,  9.72799648e-02],\n",
       "       [ 1.70764168e+00, -9.45827858e-01,  9.40983593e-02],\n",
       "       [ 1.65138690e+00, -7.62499492e-01,  8.39983271e-02],\n",
       "       [ 1.58215065e+00, -5.96348435e-01,  6.87365855e-02],\n",
       "       [ 1.49983863e+00, -4.55453635e-01,  5.02009345e-02],\n",
       "       [ 1.40511401e+00, -3.41747119e-01,  3.05198455e-02],\n",
       "       [ 1.30473004e+00, -2.53888232e-01,  1.08782225e-02],\n",
       "       [ 1.21329728e+00, -1.89353314e-01, -7.10071106e-03],\n",
       "       [ 1.13084065e+00, -1.37706319e-01, -2.51934569e-02],\n",
       "       [ 1.06506737e+00, -9.65714144e-02, -4.25630637e-02],\n",
       "       [ 9.88075426e-01, -5.39433600e-02, -6.45285242e-02]])"
      ]
     },
     "execution_count": 9,
     "metadata": {},
     "output_type": "execute_result"
    }
   ],
   "source": [
    "tmp  = final_Y_moBWHT_train[0]\n",
    "scaler4Y_moBWHT.inverse_transform(tmp)"
   ]
  },
  {
   "cell_type": "code",
   "execution_count": 10,
   "metadata": {},
   "outputs": [
    {
     "data": {
      "text/plain": [
       "array([[-2.415678321823175, -0.0210234840976431, -0.0925387317037507],\n",
       "       [-2.510752705141861, -0.0723300438527851, -0.0997491628081989],\n",
       "       [-2.730934859031679, -0.1251478348323766, -0.108115893658427],\n",
       "       [-3.006072603985212, -0.1608161501111852, -0.1150278817657106],\n",
       "       [-3.2254111451342267, -0.1744357634103454, -0.117654085667523],\n",
       "       [-3.2868020621342704, -0.1699556870492114, -0.1137944436687997],\n",
       "       [-3.166978623522488, -0.1676861409639302, -0.1034041232735306],\n",
       "       [-2.9114980614873844, -0.1915919267663103, -0.0892064787478356],\n",
       "       [-2.5895156428867674, -0.2675378566975301, -0.0741286807098905],\n",
       "       [-2.2377278904292157, -0.4195746882256953, -0.05831740523152],\n",
       "       [-1.8647037232394807, -0.6523842921047724, -0.0396422824200176],\n",
       "       [-1.4629175229835396, -0.9584733307282268, -0.0135135931356871],\n",
       "       [-1.0444435389829427, -1.3158657361174817, 0.0230539193560824],\n",
       "       [-0.6124356343565387, -1.707458937987593, 0.0725045427231502],\n",
       "       [-0.1784862306333217, -2.1161223260033784, 0.1332189007020199],\n",
       "       [0.2431893095722093, -2.543051520328748, 0.2021295821090895],\n",
       "       [0.6514896397978206, -3.0061481722755805, 0.2781793706271159],\n",
       "       [1.0361395087293348, -3.5022181842842546, 0.3605141764270405],\n",
       "       [1.3981717458983265, -4.017389523775112, 0.4495131654887181],\n",
       "       [1.7178586133329736, -4.519950517194413, 0.5429579307832436],\n",
       "       [1.9858003630421093, -4.9868864015844565, 0.6380419813392261],\n",
       "       [2.1950358114911825, -5.398095031703087, 0.7302935433799446],\n",
       "       [2.34559252069544, -5.734953400435016, 0.814404543317333],\n",
       "       [2.4481500375132192, -5.991447330928209, 0.8859383819836387],\n",
       "       [2.5129843689775244, -6.162282020007422, 0.9399888844542544],\n",
       "       [2.552764989178604, -6.257380112441719, 0.9744442643557384],\n",
       "       [2.569394462413852, -6.28789896217131, 0.9890776693475772],\n",
       "       [2.565391443043542, -6.2702886733192775, 0.9858526978934682],\n",
       "       [2.5345636681911303, -6.223088751873306, 0.9685488043989536],\n",
       "       [2.479947557727308, -6.1593376437739416, 0.940235111283226],\n",
       "       [2.397644739041027, -6.090390035659769, 0.9036469514682576],\n",
       "       [2.293096640305481, -6.020753401652011, 0.8604126355339506],\n",
       "       [2.170411360508378, -5.953604370897451, 0.8119643861323098],\n",
       "       [2.036818347709763, -5.891411606704969, 0.7601514261984714],\n",
       "       [1.8964767663631348, -5.829396996224387, 0.7051873822638404],\n",
       "       [1.7520516484225328, -5.7647258685838, 0.6476584288026368],\n",
       "       [1.6033952437448935, -5.690192863234596, 0.5880602186067194],\n",
       "       [1.4498702332577784, -5.6042811311864655, 0.5271170475347366],\n",
       "       [1.2926301634697654, -5.508529441966233, 0.4668890390948394],\n",
       "       [1.1317692327713438, -5.405696205702254, 0.4076576954737912],\n",
       "       [0.9729660039176782, -5.301746214883, 0.3506532675123086],\n",
       "       [0.8164581654023919, -5.196319797822869, 0.2958330700180432],\n",
       "       [0.6668102934908031, -5.093014743578602, 0.2434457368692287],\n",
       "       [0.5247643568775109, -4.990832310104934, 0.1937638491843431],\n",
       "       [0.3875615907930299, -4.887627748889847, 0.1462856315484892],\n",
       "       [0.2595213494791951, -4.780854351186251, 0.1010216387319973],\n",
       "       [0.1404420064415061, -4.665361357091528, 0.0565886185046736],\n",
       "       [0.0320395631941537, -4.541067865953976, 0.0129786149839894],\n",
       "       [-0.0661047249227569, -4.405587386290994, -0.030154125613002],\n",
       "       [-0.1531139479649989, -4.263058507398228, -0.072425943735548],\n",
       "       [-0.2283414172492663, -4.115717357551674, -0.1129612518179521],\n",
       "       [-0.2915752101240553, -3.96554800725929, -0.1512840506026347],\n",
       "       [-0.3410441675907871, -3.817947692813255, -0.185821891209257],\n",
       "       [-0.3801520673246761, -3.674344501723516, -0.2159322870952258],\n",
       "       [-0.4064432357492269, -3.5403596824185275, -0.2410504181652595],\n",
       "       [-0.4223699480730604, -3.417006046351408, -0.2611966743345155],\n",
       "       [-0.4294774574777789, -3.308062268031865, -0.2769608011079836],\n",
       "       [-0.4261414708441846, -3.213692201714371, -0.2885829357529371],\n",
       "       [-0.4106983833133031, -3.1318149985091237, -0.2966468943983021],\n",
       "       [-0.3869097105703578, -3.0633245077386344, -0.3011149993173524],\n",
       "       [-0.3581333542424747, -3.0050043422050106, -0.3025223543807371],\n",
       "       [-0.3261662844328388, -2.9574961797198367, -0.3015497680755241],\n",
       "       [-0.2904281534145054, -2.918008542722626, -0.2990994358282489],\n",
       "       [-0.2501964318250495, -2.88627357455388, -0.2961580311081838],\n",
       "       [-0.209577363144116, -2.860799107606072, -0.2930120672003325],\n",
       "       [-0.1677385257225717, -2.8406821698095537, -0.2898054607425419],\n",
       "       [-0.1258283602028106, -2.826351301879976, -0.2865795599105275],\n",
       "       [-0.0837446598290248, -2.815795936225157, -0.2830585849813902],\n",
       "       [-0.0392623692006792, -2.809635170234175, -0.2792767953688826],\n",
       "       [0.0055340111933055, -2.805601102746576, -0.2751166513757636],\n",
       "       [0.0526473504796623, -2.8037173569275877, -0.2707899851967259],\n",
       "       [0.0995283719803384, -2.8017229936764863, -0.2663025883872885],\n",
       "       [0.1520667171203982, -2.798153505977291, -0.2612768505783558],\n",
       "       [0.2116471388198971, -2.7929806800332853, -0.2555078300740083],\n",
       "       [0.2823820499843916, -2.784067624817593, -0.2481674048747219],\n",
       "       [0.3679809437702083, -2.7713122312736576, -0.2385691349896458],\n",
       "       [0.466442760915538, -2.752748040338169, -0.2259073931258139],\n",
       "       [0.5802657165408074, -2.727836886027014, -0.2092545005505861],\n",
       "       [0.7036261875663337, -2.694477871070608, -0.188386367531871],\n",
       "       [0.8357428794083612, -2.6490341337283176, -0.1632230414722061],\n",
       "       [0.9703244579542358, -2.591114833634831, -0.1345393964505524],\n",
       "       [1.105769394755877, -2.5175177612909563, -0.1031378577060367],\n",
       "       [1.234642379907431, -2.4282094724668832, -0.070394260436153],\n",
       "       [1.3552564204059847, -2.320785772255127, -0.0380645873941276],\n",
       "       [1.4680710433581996, -2.192622769908545, -0.0073243133164258],\n",
       "       [1.5685536615150413, -2.045490007278892, 0.0205308154783074],\n",
       "       [1.653975817896855, -1.8805423853189385, 0.0450562107685098],\n",
       "       [1.7151105298674227, -1.7053867452259794, 0.0658734591945373],\n",
       "       [1.7501973951184813, -1.5215458645953086, 0.0823117090717945],\n",
       "       [1.7597975937789152, -1.3317925876312524, 0.0931145470944175],\n",
       "       [1.7456121307201928, -1.1388046172477528, 0.0972799647853706],\n",
       "       [1.7076416787001298, -0.9458278577060664, 0.0940983593226174],\n",
       "       [1.6513869047513972, -0.7624994919741588, 0.0839983271349841],\n",
       "       [1.5821506474660316, -0.596348435139272, 0.0687365855356746],\n",
       "       [1.4998386337461007, -0.4554536351030251, 0.0502009344620898],\n",
       "       [1.4051140095995964, -0.3417471185123579, 0.0305198455367172],\n",
       "       [1.304730040367458, -0.2538882319593112, 0.0108782224633278],\n",
       "       [1.2132972795464414, -0.189353314298074, -0.0071007110587531],\n",
       "       [1.1308406521611072, -0.1377063188282552, -0.025193456913072],\n",
       "       [1.065067367075166, -0.0965714144193659, -0.0425630637113313],\n",
       "       [0.9880754258839092, -0.0539433599682053, -0.064528524238794]],\n",
       "      dtype=object)"
      ]
     },
     "execution_count": 10,
     "metadata": {},
     "output_type": "execute_result"
    }
   ],
   "source": [
    "narr_trainData_Y_moBWHT[:101,:]"
   ]
  },
  {
   "cell_type": "code",
   "execution_count": 11,
   "metadata": {},
   "outputs": [
    {
     "data": {
      "text/plain": [
       "['target_shank_ACC_X',\n",
       " 'target_shank_ACC_Y',\n",
       " 'target_shank_ACC_Z',\n",
       " 'target_shoe_ACC_X',\n",
       " 'target_shoe_ACC_Y',\n",
       " 'target_shoe_ACC_Z',\n",
       " 'target_thigh_ACC_X',\n",
       " 'target_thigh_ACC_Y',\n",
       " 'target_thigh_ACC_Z',\n",
       " 'nontarget_shank_ACC_X',\n",
       " 'nontarget_shank_ACC_Y',\n",
       " 'nontarget_shank_ACC_Z',\n",
       " 'nontarget_shoe_ACC_X',\n",
       " 'nontarget_shoe_ACC_Y',\n",
       " 'nontarget_shoe_ACC_Z',\n",
       " 'nontarget_thigh_ACC_X',\n",
       " 'nontarget_thigh_ACC_Y',\n",
       " 'nontarget_thigh_ACC_Z',\n",
       " 'trunk_ACC_X',\n",
       " 'trunk_ACC_Y',\n",
       " 'trunk_ACC_Z']"
      ]
     },
     "execution_count": 11,
     "metadata": {},
     "output_type": "execute_result"
    }
   ],
   "source": [
    "[col for col in df_testData_X.columns if 'ACC' in col ]"
   ]
  },
  {
   "cell_type": "code",
   "execution_count": 12,
   "metadata": {},
   "outputs": [
    {
     "data": {
      "text/plain": [
       "(75245, 3)"
      ]
     },
     "execution_count": 12,
     "metadata": {},
     "output_type": "execute_result"
    }
   ],
   "source": [
    "narr_trainData_Y_moBWHT.shape"
   ]
  },
  {
   "cell_type": "code",
   "execution_count": 13,
   "metadata": {},
   "outputs": [],
   "source": [
    "patientID = 'P002'\n",
    "dg_infos = dg_Fromxlsx.loc[dg_Fromxlsx['ID']==patientID][['age','height','weight_bl']] # 단위는 kg & meter\n",
    "A = list(dg_infos.loc[0])"
   ]
  },
  {
   "cell_type": "code",
   "execution_count": 14,
   "metadata": {},
   "outputs": [
    {
     "data": {
      "text/plain": [
       "(75245, 3)"
      ]
     },
     "execution_count": 14,
     "metadata": {},
     "output_type": "execute_result"
    }
   ],
   "source": [
    "scaled_Y_moBWHT_train.shape"
   ]
  },
  {
   "cell_type": "markdown",
   "metadata": {},
   "source": [
    "# 배운 것"
   ]
  },
  {
   "cell_type": "code",
   "execution_count": 15,
   "metadata": {},
   "outputs": [
    {
     "data": {
      "text/plain": [
       "['final_X_train',\n",
       " 'final_Y_angle_train',\n",
       " 'final_Y_moBWHT_train',\n",
       " 'final_DG_train']"
      ]
     },
     "execution_count": 15,
     "metadata": {},
     "output_type": "execute_result"
    }
   ],
   "source": [
    "dataSetDir = r'./SAVE_dataSet/IWALQQ_AE_2nd'\n",
    "numFold = 0\n",
    "load_train = np.load(join(dataSetDir,f\"{numFold}_fold_final_train.npz\"))\n",
    "list(load_train.keys())"
   ]
  },
  {
   "cell_type": "code",
   "execution_count": 16,
   "metadata": {},
   "outputs": [
    {
     "data": {
      "text/plain": [
       "0.9999999999999998"
      ]
     },
     "execution_count": 16,
     "metadata": {},
     "output_type": "execute_result"
    }
   ],
   "source": [
    "load_train[\"final_DG_train\"][:,2].std()"
   ]
  },
  {
   "cell_type": "code",
   "execution_count": 17,
   "metadata": {},
   "outputs": [
    {
     "name": "stdout",
     "output_type": "stream",
     "text": [
      "[[ 1.54122627 -0.01055326  0.00757153]\n",
      " [ 1.54122627 -0.01055326  0.00757153]\n",
      " [ 1.54122627 -0.01055326  0.00757153]\n",
      " ...\n",
      " [ 2.1250763   0.33671487 -0.40171557]\n",
      " [ 2.1250763   0.33671487 -0.40171557]\n",
      " [ 2.1250763   0.33671487 -0.40171557]]\n"
     ]
    }
   ],
   "source": [
    "print(load_train[\"final_DG_train\"])"
   ]
  },
  {
   "cell_type": "code",
   "execution_count": 18,
   "metadata": {},
   "outputs": [
    {
     "ename": "NameError",
     "evalue": "name 'scaled_acc_df_trainData_X' is not defined",
     "output_type": "error",
     "traceback": [
      "\u001b[0;31m---------------------------------------------------------------------------\u001b[0m",
      "\u001b[0;31mNameError\u001b[0m                                 Traceback (most recent call last)",
      "\u001b[1;32m/restricted/project/movelab/bcha/IMUforKnee/preperation/4_DataSet_IWALQQ_AE_NOTSENSOR.ipynb Cell 25\u001b[0m in \u001b[0;36m<cell line: 1>\u001b[0;34m()\u001b[0m\n\u001b[0;32m----> <a href='vscode-notebook-cell://ssh-remote%2Bscc4.bu.edu/restricted/project/movelab/bcha/IMUforKnee/preperation/4_DataSet_IWALQQ_AE_NOTSENSOR.ipynb#ch0000024vscode-remote?line=0'>1</a>\u001b[0m scaled_acc_df_trainData_X[\u001b[39m0\u001b[39m]\n",
      "\u001b[0;31mNameError\u001b[0m: name 'scaled_acc_df_trainData_X' is not defined"
     ]
    }
   ],
   "source": [
    "scaled_acc_df_trainData_X[0]"
   ]
  },
  {
   "cell_type": "code",
   "execution_count": null,
   "metadata": {},
   "outputs": [],
   "source": [
    "\n"
   ]
  },
  {
   "cell_type": "code",
   "execution_count": null,
   "metadata": {},
   "outputs": [],
   "source": [
    "# 데이터 합친 것 분리시키기\n",
    "sep_scaled_acc_df_trainData_X = final_X_train[:,:21]\n",
    "rescaled_sep_scaled_acc_df_trainData_X = acc_scaler4X.inverse_transform(sep_scaled_acc_df_trainData_X)\n",
    "rescaled_sep_scaled_acc_df_trainData_X[:101,1]"
   ]
  },
  {
   "cell_type": "code",
   "execution_count": null,
   "metadata": {},
   "outputs": [],
   "source": []
  },
  {
   "cell_type": "code",
   "execution_count": null,
   "metadata": {},
   "outputs": [],
   "source": [
    "A = makeColumns_target()\n",
    "len(A)"
   ]
  },
  {
   "cell_type": "code",
   "execution_count": null,
   "metadata": {},
   "outputs": [],
   "source": [
    "A"
   ]
  },
  {
   "cell_type": "code",
   "execution_count": null,
   "metadata": {},
   "outputs": [],
   "source": [
    "relativeDir = '../preperation/SAVE_dataSet'\n",
    "dataSetDir = join(relativeDir,nameDataset)\n",
    "dataType = 'moBWHT'\n",
    "numFold = 0\n",
    "load_scaler4Y = load(open(join(dataSetDir,f\"{numFold}_fold_scaler4Y_{dataType}.pkl\"), 'rb'))"
   ]
  },
  {
   "cell_type": "code",
   "execution_count": null,
   "metadata": {},
   "outputs": [],
   "source": [
    "dddd"
   ]
  },
  {
   "cell_type": "code",
   "execution_count": null,
   "metadata": {},
   "outputs": [],
   "source": [
    "# 데이터 셋 편집기 만들기\n",
    "import torch\n",
    "class DatasetWithDG4regressor(torch.utils.data.Dataset): \n",
    "  def __init__(self, dataSetDir, dataType, sess, numFold):\n",
    "      self.dataType = dataType # angle or moBWHT\n",
    "      self.sess = sess # train or test\n",
    "      self.load_Data_X_imu = torch.from_numpy(np.load(join(dataSetDir,f\"{str(numFold)}_fold_final_{sess}.npz\"))[f'final_X_{sess}'])\n",
    "      self.load_Data_X_dg = torch.from_numpy(np.load(join(dataSetDir,f\"{str(numFold)}_fold_final_{sess}.npz\"))[f'final_DG_{sess}'])\n",
    "      self.load_Data_Y = torch.from_numpy(np.load(join(dataSetDir,f\"{str(numFold)}_fold_final_{sess}.npz\"))[f'final_Y_{dataType}_{sess}'])\n",
    "      # regressor는 Dense layer이므로, AE 데이터 셋을 dense 용으로 만들어줘야함\n",
    "      # 3 * 101 => 1 * 303\n",
    "      self.load_Data_Y = np.reshape(self.load_Data_Y, newshape=(-1,self.load_Data_Y.shape[1]*self.load_Data_Y.shape[2],1), order='F')\n",
    "    \n",
    "      self.load_Data_X_imu = torch.squeeze(self.load_Data_X_imu.type(torch.FloatTensor))\n",
    "      self.load_Data_X_dg = torch.squeeze(self.load_Data_X_dg.type(torch.FloatTensor))\n",
    "      self.load_Data_Y = torch.squeeze(self.load_Data_Y.type(torch.FloatTensor))\n",
    "      \n",
    "  def __len__(self):\n",
    "      return len(self.load_Data_X_imu)\n",
    "\n",
    "  def __getitem__(self, idx):\n",
    "    X_imu = self.load_Data_X_imu[idx]\n",
    "    X_dg = self.load_Data_X_dg[idx]\n",
    "    Y = self.load_Data_Y[idx]\n",
    "    return X_imu,X_dg, Y"
   ]
  },
  {
   "cell_type": "code",
   "execution_count": null,
   "metadata": {},
   "outputs": [],
   "source": [
    "numFold = 0\n",
    "sess = 'test'\n",
    "dataType = 'angle'\n",
    "nameDataset = 'IWALQQ_AE_1st'\n",
    "absDataDir = r'/restricted/project/movelab/bcha/IMUforKnee/preperation/SAVE_dataSet'\n",
    "dataSetDir = join(absDataDir,nameDataset)"
   ]
  },
  {
   "cell_type": "code",
   "execution_count": null,
   "metadata": {},
   "outputs": [],
   "source": [
    "from torch.utils.data import DataLoader\n",
    "data_train = DatasetWithDG4regressor(dataSetDir, dataType, 'train', numFold)\n",
    "train_loader = DataLoader(data_train, batch_size=128, shuffle=True)"
   ]
  },
  {
   "cell_type": "code",
   "execution_count": null,
   "metadata": {},
   "outputs": [],
   "source": [
    "for batch_idx, (data_1, data_2, target) in enumerate(tqdm(train_loader)):\n",
    "    print('test')\n",
    "    break"
   ]
  },
  {
   "cell_type": "code",
   "execution_count": null,
   "metadata": {},
   "outputs": [],
   "source": [
    "A = next(enumerate(tqdm(train_loader)))\n",
    "np.array(A[1][:][1]).shape"
   ]
  },
  {
   "cell_type": "code",
   "execution_count": null,
   "metadata": {},
   "outputs": [],
   "source": [
    "rawDg = A[1][:][1]\n",
    "rawDg.shape"
   ]
  },
  {
   "cell_type": "code",
   "execution_count": null,
   "metadata": {},
   "outputs": [],
   "source": [
    "dg=rawDg.repeat(1,20)\n",
    "dg.shape"
   ]
  },
  {
   "cell_type": "code",
   "execution_count": null,
   "metadata": {},
   "outputs": [],
   "source": [
    "x = torch.randn(128, 20)\n",
    "x[1].shape"
   ]
  },
  {
   "cell_type": "code",
   "execution_count": null,
   "metadata": {},
   "outputs": [],
   "source": [
    "torch.cat((x,dg), 1).shape"
   ]
  },
  {
   "cell_type": "code",
   "execution_count": null,
   "metadata": {},
   "outputs": [],
   "source": [
    "torch.cat((x, x, x), 1).shape"
   ]
  },
  {
   "cell_type": "code",
   "execution_count": null,
   "metadata": {},
   "outputs": [],
   "source": []
  }
 ],
 "metadata": {
  "kernelspec": {
   "display_name": "Python 3.8.13 ('imu')",
   "language": "python",
   "name": "python3"
  },
  "language_info": {
   "codemirror_mode": {
    "name": "ipython",
    "version": 3
   },
   "file_extension": ".py",
   "mimetype": "text/x-python",
   "name": "python",
   "nbconvert_exporter": "python",
   "pygments_lexer": "ipython3",
   "version": "3.8.13"
  },
  "orig_nbformat": 4,
  "vscode": {
   "interpreter": {
    "hash": "658a9c5b3d323e3210e486fb511d93c908db110777364f82495071cb58f332a9"
   }
  }
 },
 "nbformat": 4,
 "nbformat_minor": 2
}

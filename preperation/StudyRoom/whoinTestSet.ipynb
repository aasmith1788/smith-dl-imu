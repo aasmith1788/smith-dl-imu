{
 "cells": [
  {
   "cell_type": "code",
   "execution_count": 3,
   "metadata": {},
   "outputs": [
    {
     "name": "stdout",
     "output_type": "stream",
     "text": [
      "set()\n"
     ]
    }
   ],
   "source": [
    "# IWALQQ_AE_1st\n",
    "total  = ['P002' ,'P007', 'P017' ,'P029', 'P050' ,'P065' ,'P104' ,'P106', 'P115', 'P119',\n",
    "'P134', 'P135' ,'P136', 'P142','P147', 'P149', 'P155' ,'P168' ,'P169', 'P172',\n",
    "'P196', 'P203' ,'P222', 'P225' ,'P226' ,'P243', 'P245', 'P258', 'P263' ,'P266',\n",
    "'P270' ,'P272' ,'P273' ,'P277' ,'P290'] +['P061', 'P066' ,'P069', 'P105' ,'P121', 'P132', 'P205' ,'P229' ,'P297']\n",
    "len(set(total))\n",
    "test_1 = ['P061', 'P066', 'P069', 'P105', 'P121', 'P132', 'P205' ,'P229' ,'P297']\n",
    "test_2 = ['P050', 'P136', 'P203' ,'P226' ,'P243', 'P266','P270','P273', 'P277']\n",
    "test_3 = ['P017','P106' , 'P119' ,'P135' ,'P169', 'P222','P225','P263', 'P290']\n",
    "test_4 = ['P029', 'P065', 'P104' ,'P142' ,'P147', 'P149','P155','P196', 'P272']\n",
    "test_5 = ['P002', 'P007', 'P115' ,'P134' ,'P168', 'P172','P245','P258',]\n",
    "\n",
    "total_test = test_1 +test_2+test_3+test_4+test_5\n",
    "print(set(total) ^ set(total_test))\n"
   ]
  },
  {
   "cell_type": "code",
   "execution_count": null,
   "metadata": {},
   "outputs": [],
   "source": []
  }
 ],
 "metadata": {
  "kernelspec": {
   "display_name": "Python 3.8.13 ('imu')",
   "language": "python",
   "name": "python3"
  },
  "language_info": {
   "codemirror_mode": {
    "name": "ipython",
    "version": 3
   },
   "file_extension": ".py",
   "mimetype": "text/x-python",
   "name": "python",
   "nbconvert_exporter": "python",
   "pygments_lexer": "ipython3",
   "version": "3.8.13"
  },
  "orig_nbformat": 4,
  "vscode": {
   "interpreter": {
    "hash": "658a9c5b3d323e3210e486fb511d93c908db110777364f82495071cb58f332a9"
   }
  }
 },
 "nbformat": 4,
 "nbformat_minor": 2
}

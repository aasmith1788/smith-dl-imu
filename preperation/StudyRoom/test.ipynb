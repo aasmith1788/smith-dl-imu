{
 "cells": [
  {
   "cell_type": "code",
   "execution_count": 1,
   "metadata": {},
   "outputs": [],
   "source": [
    "# 필요한 library\n",
    "import os\n",
    "from re import A\n",
    "import subprocess\n",
    "from natsort import natsorted\n",
    "import pandas as pd\n",
    "import keyboard\n",
    "import signal\n",
    "import subprocess\n",
    "import psutil\n",
    "import math\n",
    "import shutil\n",
    "import argparse\n",
    "from tqdm import tqdm"
   ]
  },
  {
   "cell_type": "code",
   "execution_count": 2,
   "metadata": {},
   "outputs": [],
   "source": [
    "dataDir = r'Z:\\PROJECTS\\iwalqq\\Data\\V3D\\Output\\IMU Deep Learning\\Data\\allnew_20220325_raw_byDeepak_csv\\INC_ByStep\\INC_ByZero'\n",
    "rawDir = r'Z:\\PROJECTS\\iwalqq\\Data\\V3D\\Output\\IMU Deep Learning\\Data\\allnew_20220325_raw_byDeepak_csv\\INC_ByStep\\INC_ByZero\\RAW'\n",
    "figDir = r'Z:\\PROJECTS\\iwalqq\\Data\\V3D\\Output\\IMU Deep Learning\\Data\\allnew_20220325_raw_byDeepak_csv\\INC_ByStep\\INC_ByZero\\FIG'\n",
    "includeDir = r'Z:\\PROJECTS\\iwalqq\\Data\\V3D\\Output\\IMU Deep Learning\\Data\\allnew_20220325_raw_byDeepak_csv\\INC_ByStep\\INC_ByZero\\Included_checked\\RAW'\n",
    "excludeDir = r'Z:\\PROJECTS\\iwalqq\\Data\\V3D\\Output\\IMU Deep Learning\\Data\\allnew_20220325_raw_byDeepak_csv\\INC_ByStep\\INC_ByZero\\EXC'\n",
    "postpondDir = r'Z:\\PROJECTS\\iwalqq\\Data\\V3D\\Output\\IMU Deep Learning\\Data\\allnew_20220325_raw_byDeepak_csv\\INC_ByStep\\INC_ByZero\\PP'\n",
    "dataExt = r\".csv\"\n",
    "# 파일 목록 열기\n"
   ]
  },
  {
   "cell_type": "code",
   "execution_count": 85,
   "metadata": {},
   "outputs": [],
   "source": [
    "dataList = natsorted([_ for _ in os.listdir(rawDir) if _.endswith(dataExt)])\n",
    "\n",
    "listName = r'list_Excluded_byFig.xlsx'\n",
    "if os.path.isfile(os.path.join(dataDir, listName)):\n",
    "    list_Excluded_byFig = pd.read_excel(\n",
    "        os.path.join(dataDir, listName), engine='openpyxl')\n",
    "else:\n",
    "    list_Excluded_byFig = pd.DataFrame(\n",
    "        columns=[\"filename\", \"type\", \"note\", \"checker\"])\n",
    "    list_Excluded_byFig[\"filename\"] = dataList\n",
    "    list_Excluded_byFig[\"type\"] = \"TBD\""
   ]
  },
  {
   "cell_type": "code",
   "execution_count": 89,
   "metadata": {},
   "outputs": [],
   "source": [
    "# 파일 목록없으면 만들기 # 추후에 결과 출력용 만들 때 그떄 풀어놓기\n",
    "# 목록 다 만들고 목록 출력용으로 만들어 놓기\n",
    "#  전체 목록 읽으면서 포함 파일만 따로 보관하기\n",
    "\n",
    "\n",
    "# 파일 목록 전체 들고오고 필요한 확장자만 고르고 들고온 파일 목록에서 .txt만 남기고 나머지 것들 제외시키기\n",
    "\n",
    "for datum in dataList:\n",
    "    if (list_Excluded_byFig.loc[list_Excluded_byFig.filename == datum, \"type\"].values == 'TBD'):\n",
    "        print(datum)\n"
   ]
  },
  {
   "cell_type": "code",
   "execution_count": 51,
   "metadata": {},
   "outputs": [],
   "source": [
    "A = list_Excluded_byFig.loc[list_Excluded_byFig.filename == datum, \"type\"]"
   ]
  },
  {
   "cell_type": "code",
   "execution_count": 55,
   "metadata": {},
   "outputs": [
    {
     "data": {
      "text/plain": [
       "'IN'"
      ]
     },
     "execution_count": 55,
     "metadata": {},
     "output_type": "execute_result"
    }
   ],
   "source": [
    "A.values[0]"
   ]
  },
  {
   "cell_type": "code",
   "execution_count": 63,
   "metadata": {},
   "outputs": [
    {
     "data": {
      "text/plain": [
       "'IN'"
      ]
     },
     "execution_count": 63,
     "metadata": {},
     "output_type": "execute_result"
    }
   ],
   "source": [
    "list_Excluded_byFig.loc[list_Excluded_byFig.filename == datum, \"type\"].values[0]"
   ]
  },
  {
   "cell_type": "code",
   "execution_count": 72,
   "metadata": {},
   "outputs": [
    {
     "data": {
      "text/plain": [
       "False"
      ]
     },
     "execution_count": 72,
     "metadata": {},
     "output_type": "execute_result"
    }
   ],
   "source": [
    "(list_Excluded_byFig.loc[list_Excluded_byFig.filename == datum, \"type\"].values == 'TBD')[0]"
   ]
  },
  {
   "cell_type": "code",
   "execution_count": 77,
   "metadata": {},
   "outputs": [
    {
     "data": {
      "text/plain": [
       "902    IN\n",
       "Name: type, dtype: object"
      ]
     },
     "execution_count": 77,
     "metadata": {},
     "output_type": "execute_result"
    }
   ],
   "source": [
    "list_Excluded_byFig.loc[list_Excluded_byFig.filename == datum, \"type\"]"
   ]
  }
 ],
 "metadata": {
  "interpreter": {
   "hash": "833b58c5ff5abdd4ad28d40373cf4d49bbb57d9ec65bbe609aaeb188a76179b3"
  },
  "kernelspec": {
   "display_name": "Python 3.8.0 ('buIMU')",
   "language": "python",
   "name": "python3"
  },
  "language_info": {
   "codemirror_mode": {
    "name": "ipython",
    "version": 3
   },
   "file_extension": ".py",
   "mimetype": "text/x-python",
   "name": "python",
   "nbconvert_exporter": "python",
   "pygments_lexer": "ipython3",
   "version": "3.8.0"
  },
  "orig_nbformat": 4
 },
 "nbformat": 4,
 "nbformat_minor": 2
}

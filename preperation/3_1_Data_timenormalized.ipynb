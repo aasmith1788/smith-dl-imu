{
 "cells": [
  {
   "cell_type": "markdown",
   "metadata": {},
   "source": [
    "# 본 코드는 3_0 코드를 돌린 이후에 입력 데이터를 time-normalized 할 때 사용!\n",
    "# 필터가 적용된 데이터를 불러온다!"
   ]
  },
  {
   "cell_type": "code",
   "execution_count": 3,
   "metadata": {},
   "outputs": [],
   "source": [
    "# 필요한 library\n",
    "import os\n",
    "from re import A\n",
    "import subprocess\n",
    "from natsort import natsorted\n",
    "import pandas as pd\n",
    "import keyboard\n",
    "import signal\n",
    "import subprocess\n",
    "import psutil\n",
    "import math\n",
    "import shutil\n",
    "import argparse\n",
    "from tqdm.notebook import tqdm\n",
    "from mpl_toolkits.axes_grid1 import host_subplot\n",
    "import mpl_toolkits.axisartist as AA\n",
    "import matplotlib.pyplot as plt\n",
    "import numpy as np\n",
    "from scipy import signal"
   ]
  },
  {
   "cell_type": "code",
   "execution_count": 4,
   "metadata": {},
   "outputs": [],
   "source": [
    "# 필요한 디렉토리 만들기\n",
    "# 폴더 있어도 새로 만들기\n",
    "def refresh_dir(file_path):\n",
    "    if os.path.exists(file_path):\n",
    "        os.remove(file_path)\n",
    "    os.makedirs(file_path)\n",
    "# 폴더 없으면 \n",
    "def make_dir(file_path):\n",
    "    if not os.path.exists(file_path):\n",
    "        os.makedirs(file_path)\n",
    "# 데이터의 모든 columns을 101개로 만들기!\n",
    "def resample_ALL(datum):\n",
    "    newColumns = datum.columns\n",
    "    # filter 처리한 새로운 dataframe 만들기\n",
    "    norm_datum = pd.DataFrame(columns=newColumns)\n",
    "    for i in range(0,len(datum.columns)): # IMU 데이터만 filtering 하기\n",
    "        raw_Data = datum.iloc[:,i]\n",
    "        norm_Data = signal.resample(raw_Data,101) # 101개로 모든 데이터 수 일치시키기\n",
    "        norm_datum[datum.columns[i]] = norm_Data\n",
    "    return norm_datum\n",
    "    \n",
    "def resample_poly_ALL(datum):\n",
    "    newColumns = datum.columns\n",
    "    # filter 처리한 새로운 dataframe 만들기\n",
    "    norm_datum = pd.DataFrame(columns=newColumns)\n",
    "    for i in range(0,len(datum.columns)): # IMU 데이터만 filtering 하기\n",
    "        raw_Data = datum.iloc[:,i]\n",
    "        norm_Data = signal.resample_poly(raw_Data,101,len(raw_Data),padtype='line') # 101개로 모든 데이터 수 일치시키기\n",
    "        norm_datum[datum.columns[i]] = norm_Data\n",
    "    return norm_datum"
   ]
  },
  {
   "cell_type": "code",
   "execution_count": 5,
   "metadata": {},
   "outputs": [],
   "source": [
    "# 파일 경로 설정\n",
    "dataDir =     r'Z:\\PROJECTS\\iwalqq\\Data\\V3D\\Output\\IMU Deep Learning\\Data\\allnew_20220325_raw_byDeepak_csv\\INC_ByStep\\INC_ByZero\\Included_checked'\n",
    "rawDir =      os.path.join(dataDir, r'RAW')\n",
    "filteredDir = os.path.join(dataDir, r'FILT')\n",
    "nordDir =     os.path.join(dataDir,r'NORM')\n",
    "\n",
    "# 절대로 rawDir는 여기서 만들면 안됨\n",
    "# 이전 단계에서 미리 만들어져있어야 함\n",
    "make_dir(nordDir)\n",
    "dataExt = r\".csv\"\n",
    "# 파일목록 가져오기\n",
    "# 파일 목록 전체 들고오고 필요한 확장자만 고르고 들고온 파일 목록에서 .txt만 남기고 나머지 것들 제외시키기\n",
    "dataList = natsorted([_ for _ in os.listdir(filteredDir) if _.endswith(dataExt)])"
   ]
  },
  {
   "cell_type": "code",
   "execution_count": 6,
   "metadata": {},
   "outputs": [
    {
     "data": {
      "application/vnd.jupyter.widget-view+json": {
       "model_id": "0f51bacd217f475bb3d06c3e9d2a4eb1",
       "version_major": 2,
       "version_minor": 0
      },
      "text/plain": [
       "  0%|          | 0/876 [00:00<?, ?it/s]"
      ]
     },
     "metadata": {},
     "output_type": "display_data"
    }
   ],
   "source": [
    "for file in tqdm(dataList):\n",
    "    datum = pd.read_csv(os.path.join(filteredDir, file))\n",
    "    # filt_datum = resample_ALL(datum)\n",
    "    filt_datum = resample_poly_ALL(datum) # resample_ALL()보다 나은 결과를 보여주는듯?\n",
    "    namefornorm = \"N_\"+ file\n",
    "    filt_datum.to_csv(os.path.join(nordDir,namefornorm),index=False)"
   ]
  },
  {
   "cell_type": "code",
   "execution_count": null,
   "metadata": {},
   "outputs": [],
   "source": []
  }
 ],
 "metadata": {
  "kernelspec": {
   "display_name": "Python 3.8.13 ('imu')",
   "language": "python",
   "name": "python3"
  },
  "language_info": {
   "codemirror_mode": {
    "name": "ipython",
    "version": 3
   },
   "file_extension": ".py",
   "mimetype": "text/x-python",
   "name": "python",
   "nbconvert_exporter": "python",
   "pygments_lexer": "ipython3",
   "version": "3.8.13"
  },
  "orig_nbformat": 4,
  "vscode": {
   "interpreter": {
    "hash": "13b808b5077e789f7dde84b4147c1c98f2537031315824d3f8153389e6a3e631"
   }
  }
 },
 "nbformat": 4,
 "nbformat_minor": 2
}
